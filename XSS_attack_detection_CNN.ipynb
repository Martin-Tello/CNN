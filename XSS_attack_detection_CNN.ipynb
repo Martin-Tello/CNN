{
  "nbformat": 4,
  "nbformat_minor": 0,
  "metadata": {
    "colab": {
      "name": "XSS attack detection - CNN",
      "provenance": [],
      "mount_file_id": "1JawIRk7tSdpeHYaKolX9yeRzrlwnBcj3",
      "authorship_tag": "ABX9TyN4TSRyFzhVn/582dugsNrB",
      "include_colab_link": true
    },
    "kernelspec": {
      "name": "python3",
      "display_name": "Python 3"
    },
    "language_info": {
      "name": "python"
    }
  },
  "cells": [
    {
      "cell_type": "markdown",
      "metadata": {
        "id": "view-in-github",
        "colab_type": "text"
      },
      "source": [
        "<a href=\"https://colab.research.google.com/github/Martin-Tello/CNN/blob/main/XSS_attack_detection_CNN.ipynb\" target=\"_parent\"><img src=\"https://colab.research.google.com/assets/colab-badge.svg\" alt=\"Open In Colab\"/></a>"
      ]
    },
    {
      "cell_type": "code",
      "execution_count": 1,
      "metadata": {
        "id": "hqVktlh6c3ik"
      },
      "outputs": [],
      "source": [
        "import numpy as np\n",
        "import pandas as pd\n",
        "import glob\n",
        "import time\n",
        "import pandas as pd\n",
        "\n",
        "import os\n",
        "import matplotlib.pyplot as plt\n",
        "import keras\n",
        "\n",
        "import cv2"
      ]
    },
    {
      "cell_type": "code",
      "source": [
        "df=pd.read_csv('/content/drive/MyDrive/2022-1/SEGURIDAD TI/XSS_dataset.csv', encoding='utf-8-sig')\n",
        "df"
      ],
      "metadata": {
        "colab": {
          "base_uri": "https://localhost:8080/",
          "height": 424
        },
        "id": "K3WnQOVodF-J",
        "outputId": "115cfbe3-0881-41e6-bccc-adc3d11a646f"
      },
      "execution_count": 7,
      "outputs": [
        {
          "output_type": "execute_result",
          "data": {
            "text/plain": [
              "       Unnamed: 0                                           Sentence  Label\n",
              "0               0  <li><a href=\"/wiki/File:Socrates.png\" class=\"i...      0\n",
              "1               1               <tt onmouseover=\"alert(1)\">test</tt>      1\n",
              "2               2  \\t </span> <span class=\"reference-text\">Steeri...      0\n",
              "3               3  \\t </span> <span class=\"reference-text\"><cite ...      0\n",
              "4               4  \\t </span>. <a href=\"/wiki/Digital_object_iden...      0\n",
              "...           ...                                                ...    ...\n",
              "13681       13681             <img onpointerenter=alert(1)>XSS</img>      1\n",
              "13682       13682  <source onbeforepaste=\"alert(1)\" contenteditab...      1\n",
              "13683       13683  <div draggable=\"true\" contenteditable>drag me<...      1\n",
              "13684       13684  <li><cite id=\"CITEREFDomingos2015\" class=\"cita...      0\n",
              "13685       13685                                         \\t </span>      0\n",
              "\n",
              "[13686 rows x 3 columns]"
            ],
            "text/html": [
              "\n",
              "  <div id=\"df-fe70d001-432a-4e8a-8461-646c246629c2\">\n",
              "    <div class=\"colab-df-container\">\n",
              "      <div>\n",
              "<style scoped>\n",
              "    .dataframe tbody tr th:only-of-type {\n",
              "        vertical-align: middle;\n",
              "    }\n",
              "\n",
              "    .dataframe tbody tr th {\n",
              "        vertical-align: top;\n",
              "    }\n",
              "\n",
              "    .dataframe thead th {\n",
              "        text-align: right;\n",
              "    }\n",
              "</style>\n",
              "<table border=\"1\" class=\"dataframe\">\n",
              "  <thead>\n",
              "    <tr style=\"text-align: right;\">\n",
              "      <th></th>\n",
              "      <th>Unnamed: 0</th>\n",
              "      <th>Sentence</th>\n",
              "      <th>Label</th>\n",
              "    </tr>\n",
              "  </thead>\n",
              "  <tbody>\n",
              "    <tr>\n",
              "      <th>0</th>\n",
              "      <td>0</td>\n",
              "      <td>&lt;li&gt;&lt;a href=\"/wiki/File:Socrates.png\" class=\"i...</td>\n",
              "      <td>0</td>\n",
              "    </tr>\n",
              "    <tr>\n",
              "      <th>1</th>\n",
              "      <td>1</td>\n",
              "      <td>&lt;tt onmouseover=\"alert(1)\"&gt;test&lt;/tt&gt;</td>\n",
              "      <td>1</td>\n",
              "    </tr>\n",
              "    <tr>\n",
              "      <th>2</th>\n",
              "      <td>2</td>\n",
              "      <td>\\t &lt;/span&gt; &lt;span class=\"reference-text\"&gt;Steeri...</td>\n",
              "      <td>0</td>\n",
              "    </tr>\n",
              "    <tr>\n",
              "      <th>3</th>\n",
              "      <td>3</td>\n",
              "      <td>\\t &lt;/span&gt; &lt;span class=\"reference-text\"&gt;&lt;cite ...</td>\n",
              "      <td>0</td>\n",
              "    </tr>\n",
              "    <tr>\n",
              "      <th>4</th>\n",
              "      <td>4</td>\n",
              "      <td>\\t &lt;/span&gt;. &lt;a href=\"/wiki/Digital_object_iden...</td>\n",
              "      <td>0</td>\n",
              "    </tr>\n",
              "    <tr>\n",
              "      <th>...</th>\n",
              "      <td>...</td>\n",
              "      <td>...</td>\n",
              "      <td>...</td>\n",
              "    </tr>\n",
              "    <tr>\n",
              "      <th>13681</th>\n",
              "      <td>13681</td>\n",
              "      <td>&lt;img onpointerenter=alert(1)&gt;XSS&lt;/img&gt;</td>\n",
              "      <td>1</td>\n",
              "    </tr>\n",
              "    <tr>\n",
              "      <th>13682</th>\n",
              "      <td>13682</td>\n",
              "      <td>&lt;source onbeforepaste=\"alert(1)\" contenteditab...</td>\n",
              "      <td>1</td>\n",
              "    </tr>\n",
              "    <tr>\n",
              "      <th>13683</th>\n",
              "      <td>13683</td>\n",
              "      <td>&lt;div draggable=\"true\" contenteditable&gt;drag me&lt;...</td>\n",
              "      <td>1</td>\n",
              "    </tr>\n",
              "    <tr>\n",
              "      <th>13684</th>\n",
              "      <td>13684</td>\n",
              "      <td>&lt;li&gt;&lt;cite id=\"CITEREFDomingos2015\" class=\"cita...</td>\n",
              "      <td>0</td>\n",
              "    </tr>\n",
              "    <tr>\n",
              "      <th>13685</th>\n",
              "      <td>13685</td>\n",
              "      <td>\\t &lt;/span&gt;</td>\n",
              "      <td>0</td>\n",
              "    </tr>\n",
              "  </tbody>\n",
              "</table>\n",
              "<p>13686 rows × 3 columns</p>\n",
              "</div>\n",
              "      <button class=\"colab-df-convert\" onclick=\"convertToInteractive('df-fe70d001-432a-4e8a-8461-646c246629c2')\"\n",
              "              title=\"Convert this dataframe to an interactive table.\"\n",
              "              style=\"display:none;\">\n",
              "        \n",
              "  <svg xmlns=\"http://www.w3.org/2000/svg\" height=\"24px\"viewBox=\"0 0 24 24\"\n",
              "       width=\"24px\">\n",
              "    <path d=\"M0 0h24v24H0V0z\" fill=\"none\"/>\n",
              "    <path d=\"M18.56 5.44l.94 2.06.94-2.06 2.06-.94-2.06-.94-.94-2.06-.94 2.06-2.06.94zm-11 1L8.5 8.5l.94-2.06 2.06-.94-2.06-.94L8.5 2.5l-.94 2.06-2.06.94zm10 10l.94 2.06.94-2.06 2.06-.94-2.06-.94-.94-2.06-.94 2.06-2.06.94z\"/><path d=\"M17.41 7.96l-1.37-1.37c-.4-.4-.92-.59-1.43-.59-.52 0-1.04.2-1.43.59L10.3 9.45l-7.72 7.72c-.78.78-.78 2.05 0 2.83L4 21.41c.39.39.9.59 1.41.59.51 0 1.02-.2 1.41-.59l7.78-7.78 2.81-2.81c.8-.78.8-2.07 0-2.86zM5.41 20L4 18.59l7.72-7.72 1.47 1.35L5.41 20z\"/>\n",
              "  </svg>\n",
              "      </button>\n",
              "      \n",
              "  <style>\n",
              "    .colab-df-container {\n",
              "      display:flex;\n",
              "      flex-wrap:wrap;\n",
              "      gap: 12px;\n",
              "    }\n",
              "\n",
              "    .colab-df-convert {\n",
              "      background-color: #E8F0FE;\n",
              "      border: none;\n",
              "      border-radius: 50%;\n",
              "      cursor: pointer;\n",
              "      display: none;\n",
              "      fill: #1967D2;\n",
              "      height: 32px;\n",
              "      padding: 0 0 0 0;\n",
              "      width: 32px;\n",
              "    }\n",
              "\n",
              "    .colab-df-convert:hover {\n",
              "      background-color: #E2EBFA;\n",
              "      box-shadow: 0px 1px 2px rgba(60, 64, 67, 0.3), 0px 1px 3px 1px rgba(60, 64, 67, 0.15);\n",
              "      fill: #174EA6;\n",
              "    }\n",
              "\n",
              "    [theme=dark] .colab-df-convert {\n",
              "      background-color: #3B4455;\n",
              "      fill: #D2E3FC;\n",
              "    }\n",
              "\n",
              "    [theme=dark] .colab-df-convert:hover {\n",
              "      background-color: #434B5C;\n",
              "      box-shadow: 0px 1px 3px 1px rgba(0, 0, 0, 0.15);\n",
              "      filter: drop-shadow(0px 1px 2px rgba(0, 0, 0, 0.3));\n",
              "      fill: #FFFFFF;\n",
              "    }\n",
              "  </style>\n",
              "\n",
              "      <script>\n",
              "        const buttonEl =\n",
              "          document.querySelector('#df-fe70d001-432a-4e8a-8461-646c246629c2 button.colab-df-convert');\n",
              "        buttonEl.style.display =\n",
              "          google.colab.kernel.accessAllowed ? 'block' : 'none';\n",
              "\n",
              "        async function convertToInteractive(key) {\n",
              "          const element = document.querySelector('#df-fe70d001-432a-4e8a-8461-646c246629c2');\n",
              "          const dataTable =\n",
              "            await google.colab.kernel.invokeFunction('convertToInteractive',\n",
              "                                                     [key], {});\n",
              "          if (!dataTable) return;\n",
              "\n",
              "          const docLinkHtml = 'Like what you see? Visit the ' +\n",
              "            '<a target=\"_blank\" href=https://colab.research.google.com/notebooks/data_table.ipynb>data table notebook</a>'\n",
              "            + ' to learn more about interactive tables.';\n",
              "          element.innerHTML = '';\n",
              "          dataTable['output_type'] = 'display_data';\n",
              "          await google.colab.output.renderOutput(dataTable, element);\n",
              "          const docLink = document.createElement('div');\n",
              "          docLink.innerHTML = docLinkHtml;\n",
              "          element.appendChild(docLink);\n",
              "        }\n",
              "      </script>\n",
              "    </div>\n",
              "  </div>\n",
              "  "
            ]
          },
          "metadata": {},
          "execution_count": 7
        }
      ]
    },
    {
      "cell_type": "code",
      "source": [
        "df.head()"
      ],
      "metadata": {
        "colab": {
          "base_uri": "https://localhost:8080/",
          "height": 206
        },
        "id": "IDn5QtMRdNxn",
        "outputId": "fd6124be-9ce0-4f30-c7d5-e0c8408ffd94"
      },
      "execution_count": 4,
      "outputs": [
        {
          "output_type": "execute_result",
          "data": {
            "text/plain": [
              "   Unnamed: 0                                           Sentence  Label\n",
              "0           0  <li><a href=\"/wiki/File:Socrates.png\" class=\"i...      0\n",
              "1           1               <tt onmouseover=\"alert(1)\">test</tt>      1\n",
              "2           2  \\t </span> <span class=\"reference-text\">Steeri...      0\n",
              "3           3  \\t </span> <span class=\"reference-text\"><cite ...      0\n",
              "4           4  \\t </span>. <a href=\"/wiki/Digital_object_iden...      0"
            ],
            "text/html": [
              "\n",
              "  <div id=\"df-47dd4423-e27d-45b2-b9a4-0c375c6c8d8f\">\n",
              "    <div class=\"colab-df-container\">\n",
              "      <div>\n",
              "<style scoped>\n",
              "    .dataframe tbody tr th:only-of-type {\n",
              "        vertical-align: middle;\n",
              "    }\n",
              "\n",
              "    .dataframe tbody tr th {\n",
              "        vertical-align: top;\n",
              "    }\n",
              "\n",
              "    .dataframe thead th {\n",
              "        text-align: right;\n",
              "    }\n",
              "</style>\n",
              "<table border=\"1\" class=\"dataframe\">\n",
              "  <thead>\n",
              "    <tr style=\"text-align: right;\">\n",
              "      <th></th>\n",
              "      <th>Unnamed: 0</th>\n",
              "      <th>Sentence</th>\n",
              "      <th>Label</th>\n",
              "    </tr>\n",
              "  </thead>\n",
              "  <tbody>\n",
              "    <tr>\n",
              "      <th>0</th>\n",
              "      <td>0</td>\n",
              "      <td>&lt;li&gt;&lt;a href=\"/wiki/File:Socrates.png\" class=\"i...</td>\n",
              "      <td>0</td>\n",
              "    </tr>\n",
              "    <tr>\n",
              "      <th>1</th>\n",
              "      <td>1</td>\n",
              "      <td>&lt;tt onmouseover=\"alert(1)\"&gt;test&lt;/tt&gt;</td>\n",
              "      <td>1</td>\n",
              "    </tr>\n",
              "    <tr>\n",
              "      <th>2</th>\n",
              "      <td>2</td>\n",
              "      <td>\\t &lt;/span&gt; &lt;span class=\"reference-text\"&gt;Steeri...</td>\n",
              "      <td>0</td>\n",
              "    </tr>\n",
              "    <tr>\n",
              "      <th>3</th>\n",
              "      <td>3</td>\n",
              "      <td>\\t &lt;/span&gt; &lt;span class=\"reference-text\"&gt;&lt;cite ...</td>\n",
              "      <td>0</td>\n",
              "    </tr>\n",
              "    <tr>\n",
              "      <th>4</th>\n",
              "      <td>4</td>\n",
              "      <td>\\t &lt;/span&gt;. &lt;a href=\"/wiki/Digital_object_iden...</td>\n",
              "      <td>0</td>\n",
              "    </tr>\n",
              "  </tbody>\n",
              "</table>\n",
              "</div>\n",
              "      <button class=\"colab-df-convert\" onclick=\"convertToInteractive('df-47dd4423-e27d-45b2-b9a4-0c375c6c8d8f')\"\n",
              "              title=\"Convert this dataframe to an interactive table.\"\n",
              "              style=\"display:none;\">\n",
              "        \n",
              "  <svg xmlns=\"http://www.w3.org/2000/svg\" height=\"24px\"viewBox=\"0 0 24 24\"\n",
              "       width=\"24px\">\n",
              "    <path d=\"M0 0h24v24H0V0z\" fill=\"none\"/>\n",
              "    <path d=\"M18.56 5.44l.94 2.06.94-2.06 2.06-.94-2.06-.94-.94-2.06-.94 2.06-2.06.94zm-11 1L8.5 8.5l.94-2.06 2.06-.94-2.06-.94L8.5 2.5l-.94 2.06-2.06.94zm10 10l.94 2.06.94-2.06 2.06-.94-2.06-.94-.94-2.06-.94 2.06-2.06.94z\"/><path d=\"M17.41 7.96l-1.37-1.37c-.4-.4-.92-.59-1.43-.59-.52 0-1.04.2-1.43.59L10.3 9.45l-7.72 7.72c-.78.78-.78 2.05 0 2.83L4 21.41c.39.39.9.59 1.41.59.51 0 1.02-.2 1.41-.59l7.78-7.78 2.81-2.81c.8-.78.8-2.07 0-2.86zM5.41 20L4 18.59l7.72-7.72 1.47 1.35L5.41 20z\"/>\n",
              "  </svg>\n",
              "      </button>\n",
              "      \n",
              "  <style>\n",
              "    .colab-df-container {\n",
              "      display:flex;\n",
              "      flex-wrap:wrap;\n",
              "      gap: 12px;\n",
              "    }\n",
              "\n",
              "    .colab-df-convert {\n",
              "      background-color: #E8F0FE;\n",
              "      border: none;\n",
              "      border-radius: 50%;\n",
              "      cursor: pointer;\n",
              "      display: none;\n",
              "      fill: #1967D2;\n",
              "      height: 32px;\n",
              "      padding: 0 0 0 0;\n",
              "      width: 32px;\n",
              "    }\n",
              "\n",
              "    .colab-df-convert:hover {\n",
              "      background-color: #E2EBFA;\n",
              "      box-shadow: 0px 1px 2px rgba(60, 64, 67, 0.3), 0px 1px 3px 1px rgba(60, 64, 67, 0.15);\n",
              "      fill: #174EA6;\n",
              "    }\n",
              "\n",
              "    [theme=dark] .colab-df-convert {\n",
              "      background-color: #3B4455;\n",
              "      fill: #D2E3FC;\n",
              "    }\n",
              "\n",
              "    [theme=dark] .colab-df-convert:hover {\n",
              "      background-color: #434B5C;\n",
              "      box-shadow: 0px 1px 3px 1px rgba(0, 0, 0, 0.15);\n",
              "      filter: drop-shadow(0px 1px 2px rgba(0, 0, 0, 0.3));\n",
              "      fill: #FFFFFF;\n",
              "    }\n",
              "  </style>\n",
              "\n",
              "      <script>\n",
              "        const buttonEl =\n",
              "          document.querySelector('#df-47dd4423-e27d-45b2-b9a4-0c375c6c8d8f button.colab-df-convert');\n",
              "        buttonEl.style.display =\n",
              "          google.colab.kernel.accessAllowed ? 'block' : 'none';\n",
              "\n",
              "        async function convertToInteractive(key) {\n",
              "          const element = document.querySelector('#df-47dd4423-e27d-45b2-b9a4-0c375c6c8d8f');\n",
              "          const dataTable =\n",
              "            await google.colab.kernel.invokeFunction('convertToInteractive',\n",
              "                                                     [key], {});\n",
              "          if (!dataTable) return;\n",
              "\n",
              "          const docLinkHtml = 'Like what you see? Visit the ' +\n",
              "            '<a target=\"_blank\" href=https://colab.research.google.com/notebooks/data_table.ipynb>data table notebook</a>'\n",
              "            + ' to learn more about interactive tables.';\n",
              "          element.innerHTML = '';\n",
              "          dataTable['output_type'] = 'display_data';\n",
              "          await google.colab.output.renderOutput(dataTable, element);\n",
              "          const docLink = document.createElement('div');\n",
              "          docLink.innerHTML = docLinkHtml;\n",
              "          element.appendChild(docLink);\n",
              "        }\n",
              "      </script>\n",
              "    </div>\n",
              "  </div>\n",
              "  "
            ]
          },
          "metadata": {},
          "execution_count": 4
        }
      ]
    },
    {
      "cell_type": "code",
      "source": [
        "df=df[df.columns[-2:]]  # Only get sentence and labels"
      ],
      "metadata": {
        "id": "-K3pZl-QdWiu"
      },
      "execution_count": 5,
      "outputs": []
    },
    {
      "cell_type": "code",
      "source": [
        "df"
      ],
      "metadata": {
        "colab": {
          "base_uri": "https://localhost:8080/",
          "height": 424
        },
        "id": "ve-51pG6dcEc",
        "outputId": "df5002e5-c814-4fdd-f90f-5efc6c3cc960"
      },
      "execution_count": 8,
      "outputs": [
        {
          "output_type": "execute_result",
          "data": {
            "text/plain": [
              "       Unnamed: 0                                           Sentence  Label\n",
              "0               0  <li><a href=\"/wiki/File:Socrates.png\" class=\"i...      0\n",
              "1               1               <tt onmouseover=\"alert(1)\">test</tt>      1\n",
              "2               2  \\t </span> <span class=\"reference-text\">Steeri...      0\n",
              "3               3  \\t </span> <span class=\"reference-text\"><cite ...      0\n",
              "4               4  \\t </span>. <a href=\"/wiki/Digital_object_iden...      0\n",
              "...           ...                                                ...    ...\n",
              "13681       13681             <img onpointerenter=alert(1)>XSS</img>      1\n",
              "13682       13682  <source onbeforepaste=\"alert(1)\" contenteditab...      1\n",
              "13683       13683  <div draggable=\"true\" contenteditable>drag me<...      1\n",
              "13684       13684  <li><cite id=\"CITEREFDomingos2015\" class=\"cita...      0\n",
              "13685       13685                                         \\t </span>      0\n",
              "\n",
              "[13686 rows x 3 columns]"
            ],
            "text/html": [
              "\n",
              "  <div id=\"df-3fa7c880-63f2-402a-8b57-8cdf569c64b1\">\n",
              "    <div class=\"colab-df-container\">\n",
              "      <div>\n",
              "<style scoped>\n",
              "    .dataframe tbody tr th:only-of-type {\n",
              "        vertical-align: middle;\n",
              "    }\n",
              "\n",
              "    .dataframe tbody tr th {\n",
              "        vertical-align: top;\n",
              "    }\n",
              "\n",
              "    .dataframe thead th {\n",
              "        text-align: right;\n",
              "    }\n",
              "</style>\n",
              "<table border=\"1\" class=\"dataframe\">\n",
              "  <thead>\n",
              "    <tr style=\"text-align: right;\">\n",
              "      <th></th>\n",
              "      <th>Unnamed: 0</th>\n",
              "      <th>Sentence</th>\n",
              "      <th>Label</th>\n",
              "    </tr>\n",
              "  </thead>\n",
              "  <tbody>\n",
              "    <tr>\n",
              "      <th>0</th>\n",
              "      <td>0</td>\n",
              "      <td>&lt;li&gt;&lt;a href=\"/wiki/File:Socrates.png\" class=\"i...</td>\n",
              "      <td>0</td>\n",
              "    </tr>\n",
              "    <tr>\n",
              "      <th>1</th>\n",
              "      <td>1</td>\n",
              "      <td>&lt;tt onmouseover=\"alert(1)\"&gt;test&lt;/tt&gt;</td>\n",
              "      <td>1</td>\n",
              "    </tr>\n",
              "    <tr>\n",
              "      <th>2</th>\n",
              "      <td>2</td>\n",
              "      <td>\\t &lt;/span&gt; &lt;span class=\"reference-text\"&gt;Steeri...</td>\n",
              "      <td>0</td>\n",
              "    </tr>\n",
              "    <tr>\n",
              "      <th>3</th>\n",
              "      <td>3</td>\n",
              "      <td>\\t &lt;/span&gt; &lt;span class=\"reference-text\"&gt;&lt;cite ...</td>\n",
              "      <td>0</td>\n",
              "    </tr>\n",
              "    <tr>\n",
              "      <th>4</th>\n",
              "      <td>4</td>\n",
              "      <td>\\t &lt;/span&gt;. &lt;a href=\"/wiki/Digital_object_iden...</td>\n",
              "      <td>0</td>\n",
              "    </tr>\n",
              "    <tr>\n",
              "      <th>...</th>\n",
              "      <td>...</td>\n",
              "      <td>...</td>\n",
              "      <td>...</td>\n",
              "    </tr>\n",
              "    <tr>\n",
              "      <th>13681</th>\n",
              "      <td>13681</td>\n",
              "      <td>&lt;img onpointerenter=alert(1)&gt;XSS&lt;/img&gt;</td>\n",
              "      <td>1</td>\n",
              "    </tr>\n",
              "    <tr>\n",
              "      <th>13682</th>\n",
              "      <td>13682</td>\n",
              "      <td>&lt;source onbeforepaste=\"alert(1)\" contenteditab...</td>\n",
              "      <td>1</td>\n",
              "    </tr>\n",
              "    <tr>\n",
              "      <th>13683</th>\n",
              "      <td>13683</td>\n",
              "      <td>&lt;div draggable=\"true\" contenteditable&gt;drag me&lt;...</td>\n",
              "      <td>1</td>\n",
              "    </tr>\n",
              "    <tr>\n",
              "      <th>13684</th>\n",
              "      <td>13684</td>\n",
              "      <td>&lt;li&gt;&lt;cite id=\"CITEREFDomingos2015\" class=\"cita...</td>\n",
              "      <td>0</td>\n",
              "    </tr>\n",
              "    <tr>\n",
              "      <th>13685</th>\n",
              "      <td>13685</td>\n",
              "      <td>\\t &lt;/span&gt;</td>\n",
              "      <td>0</td>\n",
              "    </tr>\n",
              "  </tbody>\n",
              "</table>\n",
              "<p>13686 rows × 3 columns</p>\n",
              "</div>\n",
              "      <button class=\"colab-df-convert\" onclick=\"convertToInteractive('df-3fa7c880-63f2-402a-8b57-8cdf569c64b1')\"\n",
              "              title=\"Convert this dataframe to an interactive table.\"\n",
              "              style=\"display:none;\">\n",
              "        \n",
              "  <svg xmlns=\"http://www.w3.org/2000/svg\" height=\"24px\"viewBox=\"0 0 24 24\"\n",
              "       width=\"24px\">\n",
              "    <path d=\"M0 0h24v24H0V0z\" fill=\"none\"/>\n",
              "    <path d=\"M18.56 5.44l.94 2.06.94-2.06 2.06-.94-2.06-.94-.94-2.06-.94 2.06-2.06.94zm-11 1L8.5 8.5l.94-2.06 2.06-.94-2.06-.94L8.5 2.5l-.94 2.06-2.06.94zm10 10l.94 2.06.94-2.06 2.06-.94-2.06-.94-.94-2.06-.94 2.06-2.06.94z\"/><path d=\"M17.41 7.96l-1.37-1.37c-.4-.4-.92-.59-1.43-.59-.52 0-1.04.2-1.43.59L10.3 9.45l-7.72 7.72c-.78.78-.78 2.05 0 2.83L4 21.41c.39.39.9.59 1.41.59.51 0 1.02-.2 1.41-.59l7.78-7.78 2.81-2.81c.8-.78.8-2.07 0-2.86zM5.41 20L4 18.59l7.72-7.72 1.47 1.35L5.41 20z\"/>\n",
              "  </svg>\n",
              "      </button>\n",
              "      \n",
              "  <style>\n",
              "    .colab-df-container {\n",
              "      display:flex;\n",
              "      flex-wrap:wrap;\n",
              "      gap: 12px;\n",
              "    }\n",
              "\n",
              "    .colab-df-convert {\n",
              "      background-color: #E8F0FE;\n",
              "      border: none;\n",
              "      border-radius: 50%;\n",
              "      cursor: pointer;\n",
              "      display: none;\n",
              "      fill: #1967D2;\n",
              "      height: 32px;\n",
              "      padding: 0 0 0 0;\n",
              "      width: 32px;\n",
              "    }\n",
              "\n",
              "    .colab-df-convert:hover {\n",
              "      background-color: #E2EBFA;\n",
              "      box-shadow: 0px 1px 2px rgba(60, 64, 67, 0.3), 0px 1px 3px 1px rgba(60, 64, 67, 0.15);\n",
              "      fill: #174EA6;\n",
              "    }\n",
              "\n",
              "    [theme=dark] .colab-df-convert {\n",
              "      background-color: #3B4455;\n",
              "      fill: #D2E3FC;\n",
              "    }\n",
              "\n",
              "    [theme=dark] .colab-df-convert:hover {\n",
              "      background-color: #434B5C;\n",
              "      box-shadow: 0px 1px 3px 1px rgba(0, 0, 0, 0.15);\n",
              "      filter: drop-shadow(0px 1px 2px rgba(0, 0, 0, 0.3));\n",
              "      fill: #FFFFFF;\n",
              "    }\n",
              "  </style>\n",
              "\n",
              "      <script>\n",
              "        const buttonEl =\n",
              "          document.querySelector('#df-3fa7c880-63f2-402a-8b57-8cdf569c64b1 button.colab-df-convert');\n",
              "        buttonEl.style.display =\n",
              "          google.colab.kernel.accessAllowed ? 'block' : 'none';\n",
              "\n",
              "        async function convertToInteractive(key) {\n",
              "          const element = document.querySelector('#df-3fa7c880-63f2-402a-8b57-8cdf569c64b1');\n",
              "          const dataTable =\n",
              "            await google.colab.kernel.invokeFunction('convertToInteractive',\n",
              "                                                     [key], {});\n",
              "          if (!dataTable) return;\n",
              "\n",
              "          const docLinkHtml = 'Like what you see? Visit the ' +\n",
              "            '<a target=\"_blank\" href=https://colab.research.google.com/notebooks/data_table.ipynb>data table notebook</a>'\n",
              "            + ' to learn more about interactive tables.';\n",
              "          element.innerHTML = '';\n",
              "          dataTable['output_type'] = 'display_data';\n",
              "          await google.colab.output.renderOutput(dataTable, element);\n",
              "          const docLink = document.createElement('div');\n",
              "          docLink.innerHTML = docLinkHtml;\n",
              "          element.appendChild(docLink);\n",
              "        }\n",
              "      </script>\n",
              "    </div>\n",
              "  </div>\n",
              "  "
            ]
          },
          "metadata": {},
          "execution_count": 8
        }
      ]
    },
    {
      "cell_type": "code",
      "source": [
        "df.head(5)"
      ],
      "metadata": {
        "colab": {
          "base_uri": "https://localhost:8080/",
          "height": 206
        },
        "id": "syZTIeqddksp",
        "outputId": "4746ca09-acfa-4780-9eb3-a7c725b0aeeb"
      },
      "execution_count": 9,
      "outputs": [
        {
          "output_type": "execute_result",
          "data": {
            "text/plain": [
              "   Unnamed: 0                                           Sentence  Label\n",
              "0           0  <li><a href=\"/wiki/File:Socrates.png\" class=\"i...      0\n",
              "1           1               <tt onmouseover=\"alert(1)\">test</tt>      1\n",
              "2           2  \\t </span> <span class=\"reference-text\">Steeri...      0\n",
              "3           3  \\t </span> <span class=\"reference-text\"><cite ...      0\n",
              "4           4  \\t </span>. <a href=\"/wiki/Digital_object_iden...      0"
            ],
            "text/html": [
              "\n",
              "  <div id=\"df-4bcc8038-fd17-4042-90bb-5a6162b68d46\">\n",
              "    <div class=\"colab-df-container\">\n",
              "      <div>\n",
              "<style scoped>\n",
              "    .dataframe tbody tr th:only-of-type {\n",
              "        vertical-align: middle;\n",
              "    }\n",
              "\n",
              "    .dataframe tbody tr th {\n",
              "        vertical-align: top;\n",
              "    }\n",
              "\n",
              "    .dataframe thead th {\n",
              "        text-align: right;\n",
              "    }\n",
              "</style>\n",
              "<table border=\"1\" class=\"dataframe\">\n",
              "  <thead>\n",
              "    <tr style=\"text-align: right;\">\n",
              "      <th></th>\n",
              "      <th>Unnamed: 0</th>\n",
              "      <th>Sentence</th>\n",
              "      <th>Label</th>\n",
              "    </tr>\n",
              "  </thead>\n",
              "  <tbody>\n",
              "    <tr>\n",
              "      <th>0</th>\n",
              "      <td>0</td>\n",
              "      <td>&lt;li&gt;&lt;a href=\"/wiki/File:Socrates.png\" class=\"i...</td>\n",
              "      <td>0</td>\n",
              "    </tr>\n",
              "    <tr>\n",
              "      <th>1</th>\n",
              "      <td>1</td>\n",
              "      <td>&lt;tt onmouseover=\"alert(1)\"&gt;test&lt;/tt&gt;</td>\n",
              "      <td>1</td>\n",
              "    </tr>\n",
              "    <tr>\n",
              "      <th>2</th>\n",
              "      <td>2</td>\n",
              "      <td>\\t &lt;/span&gt; &lt;span class=\"reference-text\"&gt;Steeri...</td>\n",
              "      <td>0</td>\n",
              "    </tr>\n",
              "    <tr>\n",
              "      <th>3</th>\n",
              "      <td>3</td>\n",
              "      <td>\\t &lt;/span&gt; &lt;span class=\"reference-text\"&gt;&lt;cite ...</td>\n",
              "      <td>0</td>\n",
              "    </tr>\n",
              "    <tr>\n",
              "      <th>4</th>\n",
              "      <td>4</td>\n",
              "      <td>\\t &lt;/span&gt;. &lt;a href=\"/wiki/Digital_object_iden...</td>\n",
              "      <td>0</td>\n",
              "    </tr>\n",
              "  </tbody>\n",
              "</table>\n",
              "</div>\n",
              "      <button class=\"colab-df-convert\" onclick=\"convertToInteractive('df-4bcc8038-fd17-4042-90bb-5a6162b68d46')\"\n",
              "              title=\"Convert this dataframe to an interactive table.\"\n",
              "              style=\"display:none;\">\n",
              "        \n",
              "  <svg xmlns=\"http://www.w3.org/2000/svg\" height=\"24px\"viewBox=\"0 0 24 24\"\n",
              "       width=\"24px\">\n",
              "    <path d=\"M0 0h24v24H0V0z\" fill=\"none\"/>\n",
              "    <path d=\"M18.56 5.44l.94 2.06.94-2.06 2.06-.94-2.06-.94-.94-2.06-.94 2.06-2.06.94zm-11 1L8.5 8.5l.94-2.06 2.06-.94-2.06-.94L8.5 2.5l-.94 2.06-2.06.94zm10 10l.94 2.06.94-2.06 2.06-.94-2.06-.94-.94-2.06-.94 2.06-2.06.94z\"/><path d=\"M17.41 7.96l-1.37-1.37c-.4-.4-.92-.59-1.43-.59-.52 0-1.04.2-1.43.59L10.3 9.45l-7.72 7.72c-.78.78-.78 2.05 0 2.83L4 21.41c.39.39.9.59 1.41.59.51 0 1.02-.2 1.41-.59l7.78-7.78 2.81-2.81c.8-.78.8-2.07 0-2.86zM5.41 20L4 18.59l7.72-7.72 1.47 1.35L5.41 20z\"/>\n",
              "  </svg>\n",
              "      </button>\n",
              "      \n",
              "  <style>\n",
              "    .colab-df-container {\n",
              "      display:flex;\n",
              "      flex-wrap:wrap;\n",
              "      gap: 12px;\n",
              "    }\n",
              "\n",
              "    .colab-df-convert {\n",
              "      background-color: #E8F0FE;\n",
              "      border: none;\n",
              "      border-radius: 50%;\n",
              "      cursor: pointer;\n",
              "      display: none;\n",
              "      fill: #1967D2;\n",
              "      height: 32px;\n",
              "      padding: 0 0 0 0;\n",
              "      width: 32px;\n",
              "    }\n",
              "\n",
              "    .colab-df-convert:hover {\n",
              "      background-color: #E2EBFA;\n",
              "      box-shadow: 0px 1px 2px rgba(60, 64, 67, 0.3), 0px 1px 3px 1px rgba(60, 64, 67, 0.15);\n",
              "      fill: #174EA6;\n",
              "    }\n",
              "\n",
              "    [theme=dark] .colab-df-convert {\n",
              "      background-color: #3B4455;\n",
              "      fill: #D2E3FC;\n",
              "    }\n",
              "\n",
              "    [theme=dark] .colab-df-convert:hover {\n",
              "      background-color: #434B5C;\n",
              "      box-shadow: 0px 1px 3px 1px rgba(0, 0, 0, 0.15);\n",
              "      filter: drop-shadow(0px 1px 2px rgba(0, 0, 0, 0.3));\n",
              "      fill: #FFFFFF;\n",
              "    }\n",
              "  </style>\n",
              "\n",
              "      <script>\n",
              "        const buttonEl =\n",
              "          document.querySelector('#df-4bcc8038-fd17-4042-90bb-5a6162b68d46 button.colab-df-convert');\n",
              "        buttonEl.style.display =\n",
              "          google.colab.kernel.accessAllowed ? 'block' : 'none';\n",
              "\n",
              "        async function convertToInteractive(key) {\n",
              "          const element = document.querySelector('#df-4bcc8038-fd17-4042-90bb-5a6162b68d46');\n",
              "          const dataTable =\n",
              "            await google.colab.kernel.invokeFunction('convertToInteractive',\n",
              "                                                     [key], {});\n",
              "          if (!dataTable) return;\n",
              "\n",
              "          const docLinkHtml = 'Like what you see? Visit the ' +\n",
              "            '<a target=\"_blank\" href=https://colab.research.google.com/notebooks/data_table.ipynb>data table notebook</a>'\n",
              "            + ' to learn more about interactive tables.';\n",
              "          element.innerHTML = '';\n",
              "          dataTable['output_type'] = 'display_data';\n",
              "          await google.colab.output.renderOutput(dataTable, element);\n",
              "          const docLink = document.createElement('div');\n",
              "          docLink.innerHTML = docLinkHtml;\n",
              "          element.appendChild(docLink);\n",
              "        }\n",
              "      </script>\n",
              "    </div>\n",
              "  </div>\n",
              "  "
            ]
          },
          "metadata": {},
          "execution_count": 9
        }
      ]
    },
    {
      "cell_type": "code",
      "source": [
        "# Get Sentences data from data frame\n",
        "sentences=df['Sentence'].values\n",
        "sentences[1]"
      ],
      "metadata": {
        "colab": {
          "base_uri": "https://localhost:8080/",
          "height": 35
        },
        "id": "bj8PoC1fdqG_",
        "outputId": "eaae8f55-76e7-41fd-c800-d96775870949"
      },
      "execution_count": 12,
      "outputs": [
        {
          "output_type": "execute_result",
          "data": {
            "text/plain": [
              "'<tt onmouseover=\"alert(1)\">test</tt>'"
            ],
            "application/vnd.google.colaboratory.intrinsic+json": {
              "type": "string"
            }
          },
          "metadata": {},
          "execution_count": 12
        }
      ]
    },
    {
      "cell_type": "code",
      "source": [
        "print(len(sentences))"
      ],
      "metadata": {
        "colab": {
          "base_uri": "https://localhost:8080/"
        },
        "id": "UJU4u60Dd1b1",
        "outputId": "99650cd6-0f26-4f6d-a7d0-4514d6a7af31"
      },
      "execution_count": 13,
      "outputs": [
        {
          "output_type": "stream",
          "name": "stdout",
          "text": [
            "13686\n"
          ]
        }
      ]
    },
    {
      "cell_type": "code",
      "source": [
        "def convert_to_ascii(sentence):\n",
        "    sentence_ascii=[]\n",
        "\n",
        "    for i in sentence:\n",
        "        \n",
        "        \n",
        "        \"\"\"Some characters have values very big e.d 8221 adn some are chinese letters\n",
        "        I am removing letters having values greater than 8222 and for rest greater \n",
        "        than 128 and smaller than 8222 assigning them values so they can easily be normalized\"\"\"\n",
        "       \n",
        "        if(ord(i)<8222):      # ” has ASCII of 8221\n",
        "            \n",
        "            if(ord(i)==8217): # ’  :  8217\n",
        "                sentence_ascii.append(134)\n",
        "            \n",
        "            \n",
        "            if(ord(i)==8221): # ”  :  8221\n",
        "                sentence_ascii.append(129)\n",
        "                \n",
        "            if(ord(i)==8220): # “  :  8220\n",
        "                sentence_ascii.append(130)\n",
        "                \n",
        "                \n",
        "            if(ord(i)==8216): # ‘  :  8216\n",
        "                sentence_ascii.append(131)\n",
        "                \n",
        "            if(ord(i)==8217): # ’  :  8217\n",
        "                sentence_ascii.append(132)\n",
        "            \n",
        "            if(ord(i)==8211): # –  :  8211\n",
        "                sentence_ascii.append(133)\n",
        "                \n",
        "                \n",
        "            \"\"\"\n",
        "            If values less than 128 store them else discard them\n",
        "            \"\"\"\n",
        "            if (ord(i)<=128):\n",
        "                    sentence_ascii.append(ord(i))\n",
        "    \n",
        "            else:\n",
        "                    pass\n",
        "            \n",
        "\n",
        "    zer=np.zeros((10000))\n",
        "\n",
        "    for i in range(len(sentence_ascii)):\n",
        "        zer[i]=sentence_ascii[i]\n",
        "\n",
        "    zer.shape=(100, 100)\n",
        "\n",
        "\n",
        "#     plt.plot(image)\n",
        "#     plt.show()\n",
        "    return zer"
      ],
      "metadata": {
        "id": "ZJIskSsmlujY"
      },
      "execution_count": 14,
      "outputs": []
    },
    {
      "cell_type": "code",
      "source": [
        "# send each sentence to be converted to ASCII\n",
        "\n",
        "\n",
        "arr=np.zeros((len(sentences),100,100))\n",
        "\n",
        "for i in range(len(sentences)):\n",
        "    \n",
        "    image=convert_to_ascii(sentences[i])\n",
        "\n",
        "    x=np.asarray(image,dtype='float')\n",
        "    image =  cv2.resize(x, dsize=(100,100), interpolation=cv2.INTER_CUBIC)\n",
        "    image/=128\n",
        "\n",
        "    \n",
        "#     if i==1:\n",
        "#         plt.plot(image)\n",
        "#         plt.show()    \n",
        "    arr[i]=image"
      ],
      "metadata": {
        "id": "dS4IBzSamDGg"
      },
      "execution_count": 15,
      "outputs": []
    },
    {
      "cell_type": "code",
      "source": [
        "arr.shape"
      ],
      "metadata": {
        "colab": {
          "base_uri": "https://localhost:8080/"
        },
        "id": "3g3baf8BmJ6r",
        "outputId": "f252f958-a578-482d-84c2-333dce2e9eb8"
      },
      "execution_count": 16,
      "outputs": [
        {
          "output_type": "execute_result",
          "data": {
            "text/plain": [
              "(13686, 100, 100)"
            ]
          },
          "metadata": {},
          "execution_count": 16
        }
      ]
    },
    {
      "cell_type": "code",
      "source": [
        "print(\"Input data shape : \", arr.shape)"
      ],
      "metadata": {
        "colab": {
          "base_uri": "https://localhost:8080/"
        },
        "id": "vfCW2mP-mNz1",
        "outputId": "887311eb-f71f-4461-dc12-3ff17a0bfbe3"
      },
      "execution_count": 17,
      "outputs": [
        {
          "output_type": "stream",
          "name": "stdout",
          "text": [
            "Input data shape :  (13686, 100, 100)\n"
          ]
        }
      ]
    },
    {
      "cell_type": "code",
      "source": [
        "# Reshape data for input to CNN\n",
        "data = arr.reshape(arr.shape[0], 100, 100, 1)"
      ],
      "metadata": {
        "id": "elQO1HiQmTZe"
      },
      "execution_count": 18,
      "outputs": []
    },
    {
      "cell_type": "code",
      "source": [
        "data.shape"
      ],
      "metadata": {
        "colab": {
          "base_uri": "https://localhost:8080/"
        },
        "id": "asCBDznvmWHA",
        "outputId": "bbccd168-1e52-4126-f857-ca80d49505d9"
      },
      "execution_count": 20,
      "outputs": [
        {
          "output_type": "execute_result",
          "data": {
            "text/plain": [
              "(13686, 100, 100, 1)"
            ]
          },
          "metadata": {},
          "execution_count": 20
        }
      ]
    },
    {
      "cell_type": "code",
      "source": [
        "y=df['Label'].values\n",
        "y"
      ],
      "metadata": {
        "colab": {
          "base_uri": "https://localhost:8080/"
        },
        "id": "bMZsrkyamhvx",
        "outputId": "9bccab52-6627-4f01-e674-7e3944232c4a"
      },
      "execution_count": 22,
      "outputs": [
        {
          "output_type": "execute_result",
          "data": {
            "text/plain": [
              "array([0, 1, 0, ..., 1, 0, 0])"
            ]
          },
          "metadata": {},
          "execution_count": 22
        }
      ]
    },
    {
      "cell_type": "code",
      "source": [
        "# Split into train/test data\n",
        "from sklearn.model_selection import train_test_split\n",
        "trainX, testX, trainY, testY = train_test_split(data,y, test_size=0.2, random_state=42)"
      ],
      "metadata": {
        "id": "VwWObSD5moxB"
      },
      "execution_count": 23,
      "outputs": []
    },
    {
      "cell_type": "code",
      "source": [
        "# import libraries for Making Model\n",
        "import tensorflow as tf\n",
        "from keras.models import Sequential\n",
        "from keras.layers import Dense, Activation, Conv2D, MaxPooling2D,Flatten,Dropout,MaxPool2D, BatchNormalization"
      ],
      "metadata": {
        "id": "cohtfUGcmque"
      },
      "execution_count": 24,
      "outputs": []
    },
    {
      "cell_type": "code",
      "source": [
        "# A basic CNN Model\n",
        "# Number of layers = 11\n",
        "# Number of Convolutional layer: 3\n",
        "\n",
        "model=tf.keras.models.Sequential([\n",
        "    \n",
        "    tf.keras.layers.Conv2D(64,(3,3), activation=tf.nn.relu, input_shape=(100,100,1)),\n",
        "    tf.keras.layers.MaxPooling2D(2,2),\n",
        "    \n",
        "    tf.keras.layers.Conv2D(128,(3,3), activation='relu'),\n",
        "    tf.keras.layers.MaxPooling2D(2,2),\n",
        "    \n",
        "    tf.keras.layers.Conv2D(256,(3,3), activation='relu'),\n",
        "    tf.keras.layers.MaxPooling2D(2,2),\n",
        "    \n",
        "    tf.keras.layers.Flatten(),\n",
        "    tf.keras.layers.Dense(256, activation='relu'),\n",
        "    tf.keras.layers.Dense(128, activation='relu'),\n",
        "    tf.keras.layers.Dense(64, activation='relu'),\n",
        "    tf.keras.layers.Dense(1, activation='sigmoid')\n",
        "    \n",
        "])"
      ],
      "metadata": {
        "id": "sB-29oxrmxlu"
      },
      "execution_count": 25,
      "outputs": []
    },
    {
      "cell_type": "code",
      "source": [
        "model.compile(loss='binary_crossentropy', \n",
        "              optimizer='adam', \n",
        "              metrics=['accuracy'])\n",
        "model.summary()"
      ],
      "metadata": {
        "colab": {
          "base_uri": "https://localhost:8080/"
        },
        "id": "m2D7RpAQnFQs",
        "outputId": "ef9f0146-4ff1-4e18-f9c1-8e4a79a1e4af"
      },
      "execution_count": 26,
      "outputs": [
        {
          "output_type": "stream",
          "name": "stdout",
          "text": [
            "Model: \"sequential\"\n",
            "_________________________________________________________________\n",
            " Layer (type)                Output Shape              Param #   \n",
            "=================================================================\n",
            " conv2d (Conv2D)             (None, 98, 98, 64)        640       \n",
            "                                                                 \n",
            " max_pooling2d (MaxPooling2D  (None, 49, 49, 64)       0         \n",
            " )                                                               \n",
            "                                                                 \n",
            " conv2d_1 (Conv2D)           (None, 47, 47, 128)       73856     \n",
            "                                                                 \n",
            " max_pooling2d_1 (MaxPooling  (None, 23, 23, 128)      0         \n",
            " 2D)                                                             \n",
            "                                                                 \n",
            " conv2d_2 (Conv2D)           (None, 21, 21, 256)       295168    \n",
            "                                                                 \n",
            " max_pooling2d_2 (MaxPooling  (None, 10, 10, 256)      0         \n",
            " 2D)                                                             \n",
            "                                                                 \n",
            " flatten (Flatten)           (None, 25600)             0         \n",
            "                                                                 \n",
            " dense (Dense)               (None, 256)               6553856   \n",
            "                                                                 \n",
            " dense_1 (Dense)             (None, 128)               32896     \n",
            "                                                                 \n",
            " dense_2 (Dense)             (None, 64)                8256      \n",
            "                                                                 \n",
            " dense_3 (Dense)             (None, 1)                 65        \n",
            "                                                                 \n",
            "=================================================================\n",
            "Total params: 6,964,737\n",
            "Trainable params: 6,964,737\n",
            "Non-trainable params: 0\n",
            "_________________________________________________________________\n"
          ]
        }
      ]
    },
    {
      "cell_type": "code",
      "source": [
        "# Stop when validation accuracy > 97\n",
        "\n",
        "class myCallback(tf.keras.callbacks.Callback):\n",
        "    def on_epoch_end(self, epoch, logs={}):\n",
        "        if(logs.get('val_accuracy')>0.98):\n",
        "            print(\" \\n Reached 98% + validation accuracy\")\n",
        "            self.model.stop_training=True\n",
        "callbacks = myCallback()"
      ],
      "metadata": {
        "id": "rqu1SzNrnPEI"
      },
      "execution_count": 29,
      "outputs": []
    },
    {
      "cell_type": "code",
      "source": [
        "batch_size = 128\n",
        "num_epoch = 20\n",
        "#model training\n",
        "model_log = model.fit(trainX, trainY,\n",
        "          batch_size=batch_size,\n",
        "          epochs=num_epoch,\n",
        "          verbose=1,\n",
        "          validation_data=( testX,  testY)\n",
        "#                        callbacks=[callbacks]\n",
        "                     )"
      ],
      "metadata": {
        "colab": {
          "base_uri": "https://localhost:8080/"
        },
        "id": "NjKcx4ALngAj",
        "outputId": "e0f4ce9b-31b5-4e9a-c0b5-eb1e4baf108c"
      },
      "execution_count": 30,
      "outputs": [
        {
          "output_type": "stream",
          "name": "stdout",
          "text": [
            "Epoch 1/20\n",
            "86/86 [==============================] - 526s 6s/step - loss: 0.4578 - accuracy: 0.7836 - val_loss: 0.4186 - val_accuracy: 0.8188\n",
            "Epoch 2/20\n",
            "86/86 [==============================] - 499s 6s/step - loss: 0.3153 - accuracy: 0.8661 - val_loss: 0.1266 - val_accuracy: 0.9620\n",
            "Epoch 3/20\n",
            "86/86 [==============================] - 502s 6s/step - loss: 0.0965 - accuracy: 0.9705 - val_loss: 0.0677 - val_accuracy: 0.9785\n",
            "Epoch 4/20\n",
            "86/86 [==============================] - 496s 6s/step - loss: 0.0654 - accuracy: 0.9811 - val_loss: 0.0594 - val_accuracy: 0.9810\n",
            "Epoch 5/20\n",
            "86/86 [==============================] - 503s 6s/step - loss: 0.0510 - accuracy: 0.9857 - val_loss: 0.0513 - val_accuracy: 0.9854\n",
            "Epoch 6/20\n",
            "86/86 [==============================] - 498s 6s/step - loss: 0.0509 - accuracy: 0.9850 - val_loss: 0.0570 - val_accuracy: 0.9850\n",
            "Epoch 7/20\n",
            "86/86 [==============================] - 498s 6s/step - loss: 0.0435 - accuracy: 0.9871 - val_loss: 0.0621 - val_accuracy: 0.9843\n",
            "Epoch 8/20\n",
            "86/86 [==============================] - 501s 6s/step - loss: 0.0388 - accuracy: 0.9887 - val_loss: 0.0444 - val_accuracy: 0.9869\n",
            "Epoch 9/20\n",
            "86/86 [==============================] - 502s 6s/step - loss: 0.0353 - accuracy: 0.9895 - val_loss: 0.0544 - val_accuracy: 0.9869\n",
            "Epoch 10/20\n",
            "86/86 [==============================] - 508s 6s/step - loss: 0.0354 - accuracy: 0.9894 - val_loss: 0.0500 - val_accuracy: 0.9839\n",
            "Epoch 11/20\n",
            "86/86 [==============================] - 501s 6s/step - loss: 0.0307 - accuracy: 0.9895 - val_loss: 0.0429 - val_accuracy: 0.9869\n",
            "Epoch 12/20\n",
            "86/86 [==============================] - 506s 6s/step - loss: 0.0242 - accuracy: 0.9917 - val_loss: 0.0400 - val_accuracy: 0.9872\n",
            "Epoch 13/20\n",
            "86/86 [==============================] - 512s 6s/step - loss: 0.0230 - accuracy: 0.9925 - val_loss: 0.0505 - val_accuracy: 0.9869\n",
            "Epoch 14/20\n",
            "86/86 [==============================] - 509s 6s/step - loss: 0.0194 - accuracy: 0.9945 - val_loss: 0.0393 - val_accuracy: 0.9887\n",
            "Epoch 15/20\n",
            "86/86 [==============================] - 511s 6s/step - loss: 0.0188 - accuracy: 0.9941 - val_loss: 0.0662 - val_accuracy: 0.9828\n",
            "Epoch 16/20\n",
            "86/86 [==============================] - 518s 6s/step - loss: 0.0184 - accuracy: 0.9942 - val_loss: 0.0357 - val_accuracy: 0.9905\n",
            "Epoch 17/20\n",
            "86/86 [==============================] - 521s 6s/step - loss: 0.0161 - accuracy: 0.9952 - val_loss: 0.0423 - val_accuracy: 0.9894\n",
            "Epoch 18/20\n",
            "86/86 [==============================] - 513s 6s/step - loss: 0.0124 - accuracy: 0.9958 - val_loss: 0.0335 - val_accuracy: 0.9901\n",
            "Epoch 19/20\n",
            "86/86 [==============================] - 521s 6s/step - loss: 0.0156 - accuracy: 0.9952 - val_loss: 0.0396 - val_accuracy: 0.9854\n",
            "Epoch 20/20\n",
            "86/86 [==============================] - 522s 6s/step - loss: 0.0126 - accuracy: 0.9955 - val_loss: 0.0270 - val_accuracy: 0.9916\n"
          ]
        }
      ]
    },
    {
      "cell_type": "code",
      "source": [
        "# predict for test set\n",
        "pred=model.predict(testX)"
      ],
      "metadata": {
        "id": "1t1pv7ljnr2j"
      },
      "execution_count": 31,
      "outputs": []
    },
    {
      "cell_type": "code",
      "source": [
        "# Threshold values predicted\n",
        "\n",
        "for i in range(len(pred)):\n",
        "    if pred[i]>0.5:\n",
        "        pred[i]=1\n",
        "    elif pred[i]<=0.5:\n",
        "        pred[i]=0"
      ],
      "metadata": {
        "id": "zRmQlTawnuGJ"
      },
      "execution_count": 32,
      "outputs": []
    },
    {
      "cell_type": "code",
      "source": [
        "# Count True predicted and wrong predicted\n",
        "\n",
        "true=0\n",
        "false=0\n",
        "\n",
        "for i in range(len(pred)):\n",
        "    if pred[i] == testY[i]:\n",
        "        true+=1\n",
        "    else:\n",
        "        false+=1\n",
        "        \n",
        "print(\"correct predicted :: \", true)\n",
        "print(\"false prediction :: \", false)"
      ],
      "metadata": {
        "colab": {
          "base_uri": "https://localhost:8080/"
        },
        "id": "N6d4s6F4nvKO",
        "outputId": "6f736671-9468-4236-c69e-c7fb7f8d0174"
      },
      "execution_count": 33,
      "outputs": [
        {
          "output_type": "stream",
          "name": "stdout",
          "text": [
            "correct predicted ::  2715\n",
            "false prediction ::  23\n"
          ]
        }
      ]
    },
    {
      "cell_type": "code",
      "source": [
        "attack=0\n",
        "benign=0\n",
        "for i in range(len(testY)):\n",
        "    if testY[i]==1:\n",
        "        attack+=1\n",
        "    else:\n",
        "        benign+=1\n",
        "\n",
        "print(\"Attack data in test set :: \", attack)\n",
        "print(\" Benign data in test set :: \", benign)"
      ],
      "metadata": {
        "colab": {
          "base_uri": "https://localhost:8080/"
        },
        "id": "EYzhGzA3n0i6",
        "outputId": "1b5306b0-a7de-4b0a-9747-607cd3a17698"
      },
      "execution_count": 34,
      "outputs": [
        {
          "output_type": "stream",
          "name": "stdout",
          "text": [
            "Attack data in test set ::  1478\n",
            " Benign data in test set ::  1260\n"
          ]
        }
      ]
    },
    {
      "cell_type": "code",
      "source": [
        "def accuracy_function(tp,tn,fp,fn):\n",
        "    \n",
        "    accuracy = (tp+tn) / (tp+tn+fp+fn)\n",
        "    \n",
        "    return accuracy"
      ],
      "metadata": {
        "id": "M_AUDPtrn1-6"
      },
      "execution_count": 35,
      "outputs": []
    },
    {
      "cell_type": "code",
      "source": [
        "def precision_function(tp,fp):\n",
        "    \n",
        "    precision = tp / (tp+fp)\n",
        "    \n",
        "    return precision"
      ],
      "metadata": {
        "id": "G9Kh0phbn6hh"
      },
      "execution_count": 36,
      "outputs": []
    },
    {
      "cell_type": "code",
      "source": [
        "#Takes True Positive and false negative\n",
        "# Returns Recall\n",
        "\n",
        "def recall_function(tp,fn):\n",
        "    \n",
        "    recall=tp / (tp+fn)\n",
        "    \n",
        "    return recall"
      ],
      "metadata": {
        "id": "l0Ma71Rtn-em"
      },
      "execution_count": 37,
      "outputs": []
    },
    {
      "cell_type": "code",
      "source": [
        "#Takes true values and predicted\n",
        "# Returns Accuracy, precision and recall\n",
        "\n",
        "\n",
        "def confusion_matrix(truth,predicted):\n",
        "    \n",
        "    true_positive = 0\n",
        "    true_negative = 0\n",
        "    false_positive = 0\n",
        "    false_negative = 0\n",
        "    \n",
        "    for true,pred in zip(truth,predicted):\n",
        "        if true == 1:\n",
        "            if pred == true:\n",
        "                true_positive += 1\n",
        "            elif pred != true:\n",
        "                false_negative += 1\n",
        "\n",
        "        elif true == 0:\n",
        "            if pred == true:\n",
        "                true_negative += 1\n",
        "            elif pred != true:\n",
        "                false_positive += 1\n",
        "            \n",
        "    accuracy=accuracy_function(true_positive, true_negative, false_positive, false_negative)\n",
        "    precision=precision_function(true_positive, false_positive)\n",
        "    recall=recall_function(true_positive, false_negative)\n",
        "    \n",
        "    return (accuracy,\n",
        "            precision,\n",
        "           recall)"
      ],
      "metadata": {
        "id": "u8Yit3cEn_OG"
      },
      "execution_count": 38,
      "outputs": []
    },
    {
      "cell_type": "code",
      "source": [
        "accuracy,precision,recall=confusion_matrix(testY,pred)"
      ],
      "metadata": {
        "id": "BmBoHZ_goDIp"
      },
      "execution_count": 39,
      "outputs": []
    },
    {
      "cell_type": "code",
      "source": [
        "print(\" Accuracy : {0} \\n Precision : {1} \\n Recall : {2}\".format(accuracy, precision, recall))"
      ],
      "metadata": {
        "colab": {
          "base_uri": "https://localhost:8080/"
        },
        "id": "nA3VnLKtoE_d",
        "outputId": "9728f78d-67dc-4d39-d8bd-7b3f2b82d782"
      },
      "execution_count": 40,
      "outputs": [
        {
          "output_type": "stream",
          "name": "stdout",
          "text": [
            " Accuracy : 0.991599707815924 \n",
            " Precision : 0.98989898989899 \n",
            " Recall : 0.9945872801082544\n"
          ]
        }
      ]
    }
  ]
}