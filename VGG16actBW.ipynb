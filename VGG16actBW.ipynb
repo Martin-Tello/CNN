{
  "nbformat": 4,
  "nbformat_minor": 0,
  "metadata": {
    "colab": {
      "name": "VGG16actBW",
      "provenance": [],
      "collapsed_sections": [],
      "machine_shape": "hm",
      "include_colab_link": true
    },
    "kernelspec": {
      "name": "python3",
      "display_name": "Python 3"
    },
    "language_info": {
      "name": "python"
    },
    "accelerator": "GPU"
  },
  "cells": [
    {
      "cell_type": "markdown",
      "metadata": {
        "id": "view-in-github",
        "colab_type": "text"
      },
      "source": [
        "<a href=\"https://colab.research.google.com/github/Martin-Tello/CNN/blob/main/VGG16actBW.ipynb\" target=\"_parent\"><img src=\"https://colab.research.google.com/assets/colab-badge.svg\" alt=\"Open In Colab\"/></a>"
      ]
    },
    {
      "cell_type": "code",
      "metadata": {
        "colab": {
          "base_uri": "https://localhost:8080/"
        },
        "id": "akHwIXVnb7YA",
        "outputId": "359b8b96-9622-4a60-ed5c-c51036fda7d5"
      },
      "source": [
        "pip install Keras-Applications"
      ],
      "execution_count": 1,
      "outputs": [
        {
          "output_type": "stream",
          "name": "stdout",
          "text": [
            "Collecting Keras-Applications\n",
            "  Downloading Keras_Applications-1.0.8-py3-none-any.whl (50 kB)\n",
            "\u001b[?25l\r\u001b[K     |██████▌                         | 10 kB 23.5 MB/s eta 0:00:01\r\u001b[K     |█████████████                   | 20 kB 23.6 MB/s eta 0:00:01\r\u001b[K     |███████████████████▍            | 30 kB 12.0 MB/s eta 0:00:01\r\u001b[K     |█████████████████████████▉      | 40 kB 9.3 MB/s eta 0:00:01\r\u001b[K     |████████████████████████████████| 50 kB 2.9 MB/s \n",
            "\u001b[?25hRequirement already satisfied: numpy>=1.9.1 in /usr/local/lib/python3.7/dist-packages (from Keras-Applications) (1.19.5)\n",
            "Requirement already satisfied: h5py in /usr/local/lib/python3.7/dist-packages (from Keras-Applications) (3.1.0)\n",
            "Requirement already satisfied: cached-property in /usr/local/lib/python3.7/dist-packages (from h5py->Keras-Applications) (1.5.2)\n",
            "Installing collected packages: Keras-Applications\n",
            "Successfully installed Keras-Applications-1.0.8\n"
          ]
        }
      ]
    },
    {
      "cell_type": "code",
      "metadata": {
        "colab": {
          "base_uri": "https://localhost:8080/"
        },
        "id": "EDl2dadNcDd7",
        "outputId": "937c6f38-b067-4d0a-9fdd-4619b47a9c7b"
      },
      "source": [
        "!pip install Keras-Preprocessing"
      ],
      "execution_count": 2,
      "outputs": [
        {
          "output_type": "stream",
          "name": "stdout",
          "text": [
            "Requirement already satisfied: Keras-Preprocessing in /usr/local/lib/python3.7/dist-packages (1.1.2)\n",
            "Requirement already satisfied: numpy>=1.9.1 in /usr/local/lib/python3.7/dist-packages (from Keras-Preprocessing) (1.19.5)\n",
            "Requirement already satisfied: six>=1.9.0 in /usr/local/lib/python3.7/dist-packages (from Keras-Preprocessing) (1.15.0)\n"
          ]
        }
      ]
    },
    {
      "cell_type": "code",
      "metadata": {
        "colab": {
          "base_uri": "https://localhost:8080/"
        },
        "id": "DzEMQQ-HcLd4",
        "outputId": "341328ad-b74c-44c7-9194-66518dfc4fcf"
      },
      "source": [
        "!pip install keras_vggface"
      ],
      "execution_count": 3,
      "outputs": [
        {
          "output_type": "stream",
          "name": "stdout",
          "text": [
            "Collecting keras_vggface\n",
            "  Downloading keras_vggface-0.6-py3-none-any.whl (8.3 kB)\n",
            "Requirement already satisfied: keras in /usr/local/lib/python3.7/dist-packages (from keras_vggface) (2.6.0)\n",
            "Requirement already satisfied: six>=1.9.0 in /usr/local/lib/python3.7/dist-packages (from keras_vggface) (1.15.0)\n",
            "Requirement already satisfied: pyyaml in /usr/local/lib/python3.7/dist-packages (from keras_vggface) (3.13)\n",
            "Requirement already satisfied: h5py in /usr/local/lib/python3.7/dist-packages (from keras_vggface) (3.1.0)\n",
            "Requirement already satisfied: scipy>=0.14 in /usr/local/lib/python3.7/dist-packages (from keras_vggface) (1.4.1)\n",
            "Requirement already satisfied: pillow in /usr/local/lib/python3.7/dist-packages (from keras_vggface) (7.1.2)\n",
            "Requirement already satisfied: numpy>=1.9.1 in /usr/local/lib/python3.7/dist-packages (from keras_vggface) (1.19.5)\n",
            "Requirement already satisfied: cached-property in /usr/local/lib/python3.7/dist-packages (from h5py->keras_vggface) (1.5.2)\n",
            "Installing collected packages: keras-vggface\n",
            "Successfully installed keras-vggface-0.6\n"
          ]
        }
      ]
    },
    {
      "cell_type": "code",
      "metadata": {
        "colab": {
          "base_uri": "https://localhost:8080/"
        },
        "id": "IFPGkbnEeJDA",
        "outputId": "225392ee-5721-43ad-fef2-dbe13fb19147"
      },
      "source": [
        "!pip install mlxtend --upgrade"
      ],
      "execution_count": 4,
      "outputs": [
        {
          "output_type": "stream",
          "name": "stdout",
          "text": [
            "Requirement already satisfied: mlxtend in /usr/local/lib/python3.7/dist-packages (0.14.0)\n",
            "Collecting mlxtend\n",
            "  Downloading mlxtend-0.19.0-py2.py3-none-any.whl (1.3 MB)\n",
            "\u001b[K     |████████████████████████████████| 1.3 MB 5.1 MB/s \n",
            "\u001b[?25hRequirement already satisfied: scipy>=1.2.1 in /usr/local/lib/python3.7/dist-packages (from mlxtend) (1.4.1)\n",
            "Requirement already satisfied: numpy>=1.16.2 in /usr/local/lib/python3.7/dist-packages (from mlxtend) (1.19.5)\n",
            "Requirement already satisfied: setuptools in /usr/local/lib/python3.7/dist-packages (from mlxtend) (57.4.0)\n",
            "Requirement already satisfied: joblib>=0.13.2 in /usr/local/lib/python3.7/dist-packages (from mlxtend) (1.0.1)\n",
            "Requirement already satisfied: matplotlib>=3.0.0 in /usr/local/lib/python3.7/dist-packages (from mlxtend) (3.2.2)\n",
            "Requirement already satisfied: pandas>=0.24.2 in /usr/local/lib/python3.7/dist-packages (from mlxtend) (1.1.5)\n",
            "Requirement already satisfied: scikit-learn>=0.20.3 in /usr/local/lib/python3.7/dist-packages (from mlxtend) (0.22.2.post1)\n",
            "Requirement already satisfied: kiwisolver>=1.0.1 in /usr/local/lib/python3.7/dist-packages (from matplotlib>=3.0.0->mlxtend) (1.3.2)\n",
            "Requirement already satisfied: python-dateutil>=2.1 in /usr/local/lib/python3.7/dist-packages (from matplotlib>=3.0.0->mlxtend) (2.8.2)\n",
            "Requirement already satisfied: pyparsing!=2.0.4,!=2.1.2,!=2.1.6,>=2.0.1 in /usr/local/lib/python3.7/dist-packages (from matplotlib>=3.0.0->mlxtend) (2.4.7)\n",
            "Requirement already satisfied: cycler>=0.10 in /usr/local/lib/python3.7/dist-packages (from matplotlib>=3.0.0->mlxtend) (0.10.0)\n",
            "Requirement already satisfied: six in /usr/local/lib/python3.7/dist-packages (from cycler>=0.10->matplotlib>=3.0.0->mlxtend) (1.15.0)\n",
            "Requirement already satisfied: pytz>=2017.2 in /usr/local/lib/python3.7/dist-packages (from pandas>=0.24.2->mlxtend) (2018.9)\n",
            "Installing collected packages: mlxtend\n",
            "  Attempting uninstall: mlxtend\n",
            "    Found existing installation: mlxtend 0.14.0\n",
            "    Uninstalling mlxtend-0.14.0:\n",
            "      Successfully uninstalled mlxtend-0.14.0\n",
            "Successfully installed mlxtend-0.19.0\n"
          ]
        }
      ]
    },
    {
      "cell_type": "code",
      "metadata": {
        "id": "-geN3zMOcPBh"
      },
      "source": [
        "from keras.models import Sequential, Model\n",
        "from keras.layers import Conv2D, MaxPool2D, Dense, Flatten, Dropout, BatchNormalization, Input\n",
        "#from keras.optimizers import Adam\n",
        "from tensorflow.keras.optimizers import Adam \n",
        "from keras.callbacks import TensorBoard, ModelCheckpoint\n",
        "from keras.utils import np_utils\n",
        "import os\n",
        "import numpy as np\n",
        "from keras.preprocessing import image\n",
        "from keras.applications.imagenet_utils import preprocess_input, decode_predictions\n",
        "from keras.applications.vgg16 import VGG16\n",
        "from keras.preprocessing.image import ImageDataGenerator \n",
        "from sklearn.utils import shuffle\n",
        "from sklearn.model_selection import train_test_split\n",
        "import cv2\n",
        "import matplotlib.pyplot as plt\n",
        "%matplotlib inline"
      ],
      "execution_count": 5,
      "outputs": []
    },
    {
      "cell_type": "code",
      "metadata": {
        "id": "F3eP96O7cScr"
      },
      "source": [
        "width_shape = 224\n",
        "height_shape = 224\n",
        "num_classes = 11\n",
        "epochs = 50\n",
        "batch_size = 256"
      ],
      "execution_count": 6,
      "outputs": []
    },
    {
      "cell_type": "code",
      "metadata": {
        "id": "So5QDE_fcskv"
      },
      "source": [
        "train_data_dir = '/content/drive/MyDrive/Hardcode/ENTRENAMIENTO_VGG/MTP/TRAIN'  \n",
        "validation_data_dir = '/content/drive/MyDrive/Hardcode/ENTRENAMIENTO_VGG/MTP/VALIDATION'"
      ],
      "execution_count": 7,
      "outputs": []
    },
    {
      "cell_type": "code",
      "metadata": {
        "colab": {
          "base_uri": "https://localhost:8080/"
        },
        "id": "q1Exz0hVdQYw",
        "outputId": "c2551cf2-9d54-4f35-9418-98d4c6aaffa8"
      },
      "source": [
        "train_datagen = ImageDataGenerator(  \n",
        "    rotation_range=20,\n",
        "    zoom_range=0.2,\n",
        "    width_shift_range=0.1,\n",
        "    height_shift_range=0.1,\n",
        "    horizontal_flip=True,\n",
        "    vertical_flip=False,\n",
        "    preprocessing_function=preprocess_input)\n",
        "\n",
        "valid_datagen = ImageDataGenerator(    \n",
        "    rotation_range=20,\n",
        "    zoom_range=0.2,\n",
        "    width_shift_range=0.1,\n",
        "    height_shift_range=0.1,\n",
        "    horizontal_flip=True,\n",
        "    vertical_flip=False,\n",
        "    preprocessing_function=preprocess_input)\n",
        "\n",
        "train_generator = train_datagen.flow_from_directory(  \n",
        "    train_data_dir,\n",
        "    target_size=(width_shape, height_shape),\n",
        "    batch_size=batch_size,\n",
        "    #save_to_dir='',\n",
        "    class_mode='categorical')\n",
        "\n",
        "validation_generator = valid_datagen.flow_from_directory(  \n",
        "    validation_data_dir,\n",
        "    target_size=(width_shape, height_shape),\n",
        "    batch_size=batch_size,\n",
        "    #save_to_dir='',\n",
        "    class_mode='categorical')"
      ],
      "execution_count": 8,
      "outputs": [
        {
          "output_type": "stream",
          "name": "stdout",
          "text": [
            "Found 10815 images belonging to 11 classes.\n",
            "Found 3850 images belonging to 11 classes.\n"
          ]
        }
      ]
    },
    {
      "cell_type": "code",
      "metadata": {
        "id": "DDEZvRmudfNP"
      },
      "source": [
        "nb_train_samples = 10815             \n",
        "nb_validation_samples = 3850  "
      ],
      "execution_count": 9,
      "outputs": []
    },
    {
      "cell_type": "code",
      "metadata": {
        "colab": {
          "base_uri": "https://localhost:8080/"
        },
        "id": "L4BjdYlkdzTc",
        "outputId": "1f730177-9aec-43a1-af48-a258ce61fa0b"
      },
      "source": [
        "image_input = Input(shape=(width_shape, height_shape, 3))\n",
        "\n",
        "model2 = VGG16(input_tensor=image_input, include_top=True,weights='imagenet')\n",
        "\n",
        "model2.summary()\n",
        "\n",
        "last_layer = model2.get_layer('block5_pool').output\n",
        "x= Flatten(name='flatten')(last_layer)\n",
        "x = Dense(128, activation='relu', name='fc1')(x)\n",
        "x = Dense(128, activation='relu', name='fc2')(x)\n",
        "out = Dense(num_classes, activation='softmax', name='output')(x)\n",
        "custom_model = Model(image_input, out)\n",
        "custom_model.summary()\n",
        "\n",
        "# freeze all the layers except the dense layers\n",
        "for layer in custom_model.layers[:-3]:\n",
        "\tlayer.trainable = False\n",
        "\n",
        "custom_model.summary()\n",
        "\n",
        "custom_model.compile(loss='categorical_crossentropy',optimizer='adadelta',metrics=['accuracy'])"
      ],
      "execution_count": 10,
      "outputs": [
        {
          "output_type": "stream",
          "name": "stdout",
          "text": [
            "Downloading data from https://storage.googleapis.com/tensorflow/keras-applications/vgg16/vgg16_weights_tf_dim_ordering_tf_kernels.h5\n",
            "553467904/553467096 [==============================] - 5s 0us/step\n",
            "553476096/553467096 [==============================] - 5s 0us/step\n",
            "Model: \"vgg16\"\n",
            "_________________________________________________________________\n",
            "Layer (type)                 Output Shape              Param #   \n",
            "=================================================================\n",
            "input_1 (InputLayer)         [(None, 224, 224, 3)]     0         \n",
            "_________________________________________________________________\n",
            "block1_conv1 (Conv2D)        (None, 224, 224, 64)      1792      \n",
            "_________________________________________________________________\n",
            "block1_conv2 (Conv2D)        (None, 224, 224, 64)      36928     \n",
            "_________________________________________________________________\n",
            "block1_pool (MaxPooling2D)   (None, 112, 112, 64)      0         \n",
            "_________________________________________________________________\n",
            "block2_conv1 (Conv2D)        (None, 112, 112, 128)     73856     \n",
            "_________________________________________________________________\n",
            "block2_conv2 (Conv2D)        (None, 112, 112, 128)     147584    \n",
            "_________________________________________________________________\n",
            "block2_pool (MaxPooling2D)   (None, 56, 56, 128)       0         \n",
            "_________________________________________________________________\n",
            "block3_conv1 (Conv2D)        (None, 56, 56, 256)       295168    \n",
            "_________________________________________________________________\n",
            "block3_conv2 (Conv2D)        (None, 56, 56, 256)       590080    \n",
            "_________________________________________________________________\n",
            "block3_conv3 (Conv2D)        (None, 56, 56, 256)       590080    \n",
            "_________________________________________________________________\n",
            "block3_pool (MaxPooling2D)   (None, 28, 28, 256)       0         \n",
            "_________________________________________________________________\n",
            "block4_conv1 (Conv2D)        (None, 28, 28, 512)       1180160   \n",
            "_________________________________________________________________\n",
            "block4_conv2 (Conv2D)        (None, 28, 28, 512)       2359808   \n",
            "_________________________________________________________________\n",
            "block4_conv3 (Conv2D)        (None, 28, 28, 512)       2359808   \n",
            "_________________________________________________________________\n",
            "block4_pool (MaxPooling2D)   (None, 14, 14, 512)       0         \n",
            "_________________________________________________________________\n",
            "block5_conv1 (Conv2D)        (None, 14, 14, 512)       2359808   \n",
            "_________________________________________________________________\n",
            "block5_conv2 (Conv2D)        (None, 14, 14, 512)       2359808   \n",
            "_________________________________________________________________\n",
            "block5_conv3 (Conv2D)        (None, 14, 14, 512)       2359808   \n",
            "_________________________________________________________________\n",
            "block5_pool (MaxPooling2D)   (None, 7, 7, 512)         0         \n",
            "_________________________________________________________________\n",
            "flatten (Flatten)            (None, 25088)             0         \n",
            "_________________________________________________________________\n",
            "fc1 (Dense)                  (None, 4096)              102764544 \n",
            "_________________________________________________________________\n",
            "fc2 (Dense)                  (None, 4096)              16781312  \n",
            "_________________________________________________________________\n",
            "predictions (Dense)          (None, 1000)              4097000   \n",
            "=================================================================\n",
            "Total params: 138,357,544\n",
            "Trainable params: 138,357,544\n",
            "Non-trainable params: 0\n",
            "_________________________________________________________________\n",
            "Model: \"model\"\n",
            "_________________________________________________________________\n",
            "Layer (type)                 Output Shape              Param #   \n",
            "=================================================================\n",
            "input_1 (InputLayer)         [(None, 224, 224, 3)]     0         \n",
            "_________________________________________________________________\n",
            "block1_conv1 (Conv2D)        (None, 224, 224, 64)      1792      \n",
            "_________________________________________________________________\n",
            "block1_conv2 (Conv2D)        (None, 224, 224, 64)      36928     \n",
            "_________________________________________________________________\n",
            "block1_pool (MaxPooling2D)   (None, 112, 112, 64)      0         \n",
            "_________________________________________________________________\n",
            "block2_conv1 (Conv2D)        (None, 112, 112, 128)     73856     \n",
            "_________________________________________________________________\n",
            "block2_conv2 (Conv2D)        (None, 112, 112, 128)     147584    \n",
            "_________________________________________________________________\n",
            "block2_pool (MaxPooling2D)   (None, 56, 56, 128)       0         \n",
            "_________________________________________________________________\n",
            "block3_conv1 (Conv2D)        (None, 56, 56, 256)       295168    \n",
            "_________________________________________________________________\n",
            "block3_conv2 (Conv2D)        (None, 56, 56, 256)       590080    \n",
            "_________________________________________________________________\n",
            "block3_conv3 (Conv2D)        (None, 56, 56, 256)       590080    \n",
            "_________________________________________________________________\n",
            "block3_pool (MaxPooling2D)   (None, 28, 28, 256)       0         \n",
            "_________________________________________________________________\n",
            "block4_conv1 (Conv2D)        (None, 28, 28, 512)       1180160   \n",
            "_________________________________________________________________\n",
            "block4_conv2 (Conv2D)        (None, 28, 28, 512)       2359808   \n",
            "_________________________________________________________________\n",
            "block4_conv3 (Conv2D)        (None, 28, 28, 512)       2359808   \n",
            "_________________________________________________________________\n",
            "block4_pool (MaxPooling2D)   (None, 14, 14, 512)       0         \n",
            "_________________________________________________________________\n",
            "block5_conv1 (Conv2D)        (None, 14, 14, 512)       2359808   \n",
            "_________________________________________________________________\n",
            "block5_conv2 (Conv2D)        (None, 14, 14, 512)       2359808   \n",
            "_________________________________________________________________\n",
            "block5_conv3 (Conv2D)        (None, 14, 14, 512)       2359808   \n",
            "_________________________________________________________________\n",
            "block5_pool (MaxPooling2D)   (None, 7, 7, 512)         0         \n",
            "_________________________________________________________________\n",
            "flatten (Flatten)            (None, 25088)             0         \n",
            "_________________________________________________________________\n",
            "fc1 (Dense)                  (None, 128)               3211392   \n",
            "_________________________________________________________________\n",
            "fc2 (Dense)                  (None, 128)               16512     \n",
            "_________________________________________________________________\n",
            "output (Dense)               (None, 11)                1419      \n",
            "=================================================================\n",
            "Total params: 17,944,011\n",
            "Trainable params: 17,944,011\n",
            "Non-trainable params: 0\n",
            "_________________________________________________________________\n",
            "Model: \"model\"\n",
            "_________________________________________________________________\n",
            "Layer (type)                 Output Shape              Param #   \n",
            "=================================================================\n",
            "input_1 (InputLayer)         [(None, 224, 224, 3)]     0         \n",
            "_________________________________________________________________\n",
            "block1_conv1 (Conv2D)        (None, 224, 224, 64)      1792      \n",
            "_________________________________________________________________\n",
            "block1_conv2 (Conv2D)        (None, 224, 224, 64)      36928     \n",
            "_________________________________________________________________\n",
            "block1_pool (MaxPooling2D)   (None, 112, 112, 64)      0         \n",
            "_________________________________________________________________\n",
            "block2_conv1 (Conv2D)        (None, 112, 112, 128)     73856     \n",
            "_________________________________________________________________\n",
            "block2_conv2 (Conv2D)        (None, 112, 112, 128)     147584    \n",
            "_________________________________________________________________\n",
            "block2_pool (MaxPooling2D)   (None, 56, 56, 128)       0         \n",
            "_________________________________________________________________\n",
            "block3_conv1 (Conv2D)        (None, 56, 56, 256)       295168    \n",
            "_________________________________________________________________\n",
            "block3_conv2 (Conv2D)        (None, 56, 56, 256)       590080    \n",
            "_________________________________________________________________\n",
            "block3_conv3 (Conv2D)        (None, 56, 56, 256)       590080    \n",
            "_________________________________________________________________\n",
            "block3_pool (MaxPooling2D)   (None, 28, 28, 256)       0         \n",
            "_________________________________________________________________\n",
            "block4_conv1 (Conv2D)        (None, 28, 28, 512)       1180160   \n",
            "_________________________________________________________________\n",
            "block4_conv2 (Conv2D)        (None, 28, 28, 512)       2359808   \n",
            "_________________________________________________________________\n",
            "block4_conv3 (Conv2D)        (None, 28, 28, 512)       2359808   \n",
            "_________________________________________________________________\n",
            "block4_pool (MaxPooling2D)   (None, 14, 14, 512)       0         \n",
            "_________________________________________________________________\n",
            "block5_conv1 (Conv2D)        (None, 14, 14, 512)       2359808   \n",
            "_________________________________________________________________\n",
            "block5_conv2 (Conv2D)        (None, 14, 14, 512)       2359808   \n",
            "_________________________________________________________________\n",
            "block5_conv3 (Conv2D)        (None, 14, 14, 512)       2359808   \n",
            "_________________________________________________________________\n",
            "block5_pool (MaxPooling2D)   (None, 7, 7, 512)         0         \n",
            "_________________________________________________________________\n",
            "flatten (Flatten)            (None, 25088)             0         \n",
            "_________________________________________________________________\n",
            "fc1 (Dense)                  (None, 128)               3211392   \n",
            "_________________________________________________________________\n",
            "fc2 (Dense)                  (None, 128)               16512     \n",
            "_________________________________________________________________\n",
            "output (Dense)               (None, 11)                1419      \n",
            "=================================================================\n",
            "Total params: 17,944,011\n",
            "Trainable params: 3,229,323\n",
            "Non-trainable params: 14,714,688\n",
            "_________________________________________________________________\n"
          ]
        }
      ]
    },
    {
      "cell_type": "code",
      "metadata": {
        "colab": {
          "base_uri": "https://localhost:8080/"
        },
        "id": "AotnmcPSePeD",
        "outputId": "172e98c8-32e4-4d79-a58b-e089eec6654c"
      },
      "source": [
        "model_history = custom_model.fit_generator(  \n",
        "    train_generator,\n",
        "    epochs=epochs,\n",
        "    validation_data=validation_generator,\n",
        "    steps_per_epoch=nb_train_samples//batch_size,\n",
        "    validation_steps=nb_validation_samples//batch_size)"
      ],
      "execution_count": 11,
      "outputs": [
        {
          "output_type": "stream",
          "name": "stderr",
          "text": [
            "/usr/local/lib/python3.7/dist-packages/keras/engine/training.py:1972: UserWarning: `Model.fit_generator` is deprecated and will be removed in a future version. Please use `Model.fit`, which supports generators.\n",
            "  warnings.warn('`Model.fit_generator` is deprecated and '\n"
          ]
        },
        {
          "output_type": "stream",
          "name": "stdout",
          "text": [
            "Epoch 1/50\n",
            "42/42 [==============================] - 3190s 76s/step - loss: 6.9079 - accuracy: 0.1062 - val_loss: 6.5446 - val_accuracy: 0.1060\n",
            "Epoch 2/50\n",
            "42/42 [==============================] - 230s 5s/step - loss: 4.6258 - accuracy: 0.2174 - val_loss: 5.6539 - val_accuracy: 0.1354\n",
            "Epoch 3/50\n",
            "42/42 [==============================] - 229s 5s/step - loss: 3.2355 - accuracy: 0.3405 - val_loss: 5.1251 - val_accuracy: 0.1758\n",
            "Epoch 4/50\n",
            "42/42 [==============================] - 222s 5s/step - loss: 2.2840 - accuracy: 0.4677 - val_loss: 4.6045 - val_accuracy: 0.2148\n",
            "Epoch 5/50\n",
            "42/42 [==============================] - 231s 6s/step - loss: 1.6514 - accuracy: 0.5687 - val_loss: 4.3498 - val_accuracy: 0.2615\n",
            "Epoch 6/50\n",
            "42/42 [==============================] - 232s 6s/step - loss: 1.2175 - accuracy: 0.6619 - val_loss: 4.0430 - val_accuracy: 0.3052\n",
            "Epoch 7/50\n",
            "42/42 [==============================] - 230s 5s/step - loss: 0.8919 - accuracy: 0.7407 - val_loss: 3.9019 - val_accuracy: 0.3414\n",
            "Epoch 8/50\n",
            "42/42 [==============================] - 229s 5s/step - loss: 0.6942 - accuracy: 0.7889 - val_loss: 3.8670 - val_accuracy: 0.3549\n",
            "Epoch 9/50\n",
            "42/42 [==============================] - 231s 6s/step - loss: 0.5589 - accuracy: 0.8296 - val_loss: 3.6412 - val_accuracy: 0.4044\n",
            "Epoch 10/50\n",
            "42/42 [==============================] - 230s 5s/step - loss: 0.4340 - accuracy: 0.8668 - val_loss: 3.5207 - val_accuracy: 0.4164\n",
            "Epoch 11/50\n",
            "42/42 [==============================] - 230s 6s/step - loss: 0.3439 - accuracy: 0.8966 - val_loss: 3.5558 - val_accuracy: 0.4354\n",
            "Epoch 12/50\n",
            "42/42 [==============================] - 230s 6s/step - loss: 0.2827 - accuracy: 0.9118 - val_loss: 3.5155 - val_accuracy: 0.4693\n",
            "Epoch 13/50\n",
            "42/42 [==============================] - 223s 5s/step - loss: 0.2379 - accuracy: 0.9256 - val_loss: 3.5700 - val_accuracy: 0.4745\n",
            "Epoch 14/50\n",
            "42/42 [==============================] - 225s 5s/step - loss: 0.1888 - accuracy: 0.9415 - val_loss: 3.4764 - val_accuracy: 0.4799\n",
            "Epoch 15/50\n",
            "42/42 [==============================] - 219s 5s/step - loss: 0.1699 - accuracy: 0.9470 - val_loss: 3.4263 - val_accuracy: 0.4940\n",
            "Epoch 16/50\n",
            "42/42 [==============================] - 219s 5s/step - loss: 0.1464 - accuracy: 0.9540 - val_loss: 3.3827 - val_accuracy: 0.5042\n",
            "Epoch 17/50\n",
            "42/42 [==============================] - 218s 5s/step - loss: 0.1221 - accuracy: 0.9616 - val_loss: 3.4220 - val_accuracy: 0.5242\n",
            "Epoch 18/50\n",
            "42/42 [==============================] - 215s 5s/step - loss: 0.1041 - accuracy: 0.9682 - val_loss: 3.4327 - val_accuracy: 0.5169\n",
            "Epoch 19/50\n",
            "42/42 [==============================] - 216s 5s/step - loss: 0.0918 - accuracy: 0.9707 - val_loss: 3.3944 - val_accuracy: 0.5357\n",
            "Epoch 20/50\n",
            "42/42 [==============================] - 216s 5s/step - loss: 0.0792 - accuracy: 0.9752 - val_loss: 3.4898 - val_accuracy: 0.5484\n",
            "Epoch 21/50\n",
            "42/42 [==============================] - 215s 5s/step - loss: 0.0736 - accuracy: 0.9763 - val_loss: 3.4024 - val_accuracy: 0.5417\n",
            "Epoch 22/50\n",
            "42/42 [==============================] - 214s 5s/step - loss: 0.0579 - accuracy: 0.9816 - val_loss: 3.4018 - val_accuracy: 0.5503\n",
            "Epoch 23/50\n",
            "42/42 [==============================] - 219s 5s/step - loss: 0.0585 - accuracy: 0.9819 - val_loss: 3.4381 - val_accuracy: 0.5646\n",
            "Epoch 24/50\n",
            "42/42 [==============================] - 218s 5s/step - loss: 0.0530 - accuracy: 0.9844 - val_loss: 3.4718 - val_accuracy: 0.5529\n",
            "Epoch 25/50\n",
            "42/42 [==============================] - 218s 5s/step - loss: 0.0527 - accuracy: 0.9832 - val_loss: 3.4941 - val_accuracy: 0.5708\n",
            "Epoch 26/50\n",
            "42/42 [==============================] - 219s 5s/step - loss: 0.0469 - accuracy: 0.9858 - val_loss: 3.4534 - val_accuracy: 0.5615\n",
            "Epoch 27/50\n",
            "42/42 [==============================] - 220s 5s/step - loss: 0.0370 - accuracy: 0.9882 - val_loss: 3.3625 - val_accuracy: 0.5823\n",
            "Epoch 28/50\n",
            "42/42 [==============================] - 219s 5s/step - loss: 0.0372 - accuracy: 0.9884 - val_loss: 3.4554 - val_accuracy: 0.5823\n",
            "Epoch 29/50\n",
            "42/42 [==============================] - 216s 5s/step - loss: 0.0332 - accuracy: 0.9893 - val_loss: 3.3471 - val_accuracy: 0.5836\n",
            "Epoch 30/50\n",
            "42/42 [==============================] - 219s 5s/step - loss: 0.0258 - accuracy: 0.9919 - val_loss: 3.4211 - val_accuracy: 0.5859\n",
            "Epoch 31/50\n",
            "42/42 [==============================] - 220s 5s/step - loss: 0.0263 - accuracy: 0.9921 - val_loss: 3.5215 - val_accuracy: 0.5794\n",
            "Epoch 32/50\n",
            "42/42 [==============================] - 218s 5s/step - loss: 0.0264 - accuracy: 0.9918 - val_loss: 3.4632 - val_accuracy: 0.5958\n",
            "Epoch 33/50\n",
            "42/42 [==============================] - 218s 5s/step - loss: 0.0216 - accuracy: 0.9929 - val_loss: 3.4657 - val_accuracy: 0.6005\n",
            "Epoch 34/50\n",
            "42/42 [==============================] - 218s 5s/step - loss: 0.0238 - accuracy: 0.9919 - val_loss: 3.4312 - val_accuracy: 0.5966\n",
            "Epoch 35/50\n",
            "42/42 [==============================] - 217s 5s/step - loss: 0.0186 - accuracy: 0.9938 - val_loss: 3.4312 - val_accuracy: 0.6003\n",
            "Epoch 36/50\n",
            "42/42 [==============================] - 216s 5s/step - loss: 0.0181 - accuracy: 0.9940 - val_loss: 3.4764 - val_accuracy: 0.5974\n",
            "Epoch 37/50\n",
            "42/42 [==============================] - 217s 5s/step - loss: 0.0198 - accuracy: 0.9946 - val_loss: 3.5589 - val_accuracy: 0.6039\n",
            "Epoch 38/50\n",
            "42/42 [==============================] - 219s 5s/step - loss: 0.0184 - accuracy: 0.9935 - val_loss: 3.4990 - val_accuracy: 0.5990\n",
            "Epoch 39/50\n",
            "42/42 [==============================] - 219s 5s/step - loss: 0.0147 - accuracy: 0.9957 - val_loss: 3.4615 - val_accuracy: 0.6065\n",
            "Epoch 40/50\n",
            "42/42 [==============================] - 217s 5s/step - loss: 0.0135 - accuracy: 0.9955 - val_loss: 3.5664 - val_accuracy: 0.6081\n",
            "Epoch 41/50\n",
            "42/42 [==============================] - 220s 5s/step - loss: 0.0170 - accuracy: 0.9945 - val_loss: 3.4922 - val_accuracy: 0.6180\n",
            "Epoch 42/50\n",
            "42/42 [==============================] - 219s 5s/step - loss: 0.0139 - accuracy: 0.9964 - val_loss: 3.5799 - val_accuracy: 0.6062\n",
            "Epoch 43/50\n",
            "42/42 [==============================] - 220s 5s/step - loss: 0.0149 - accuracy: 0.9954 - val_loss: 3.5338 - val_accuracy: 0.6031\n",
            "Epoch 44/50\n",
            "42/42 [==============================] - 222s 5s/step - loss: 0.0086 - accuracy: 0.9971 - val_loss: 3.6364 - val_accuracy: 0.6138\n",
            "Epoch 45/50\n",
            "42/42 [==============================] - 219s 5s/step - loss: 0.0111 - accuracy: 0.9966 - val_loss: 3.5862 - val_accuracy: 0.6180\n",
            "Epoch 46/50\n",
            "42/42 [==============================] - 221s 5s/step - loss: 0.0108 - accuracy: 0.9966 - val_loss: 3.6177 - val_accuracy: 0.6133\n",
            "Epoch 47/50\n",
            "42/42 [==============================] - 219s 5s/step - loss: 0.0110 - accuracy: 0.9973 - val_loss: 3.6252 - val_accuracy: 0.6216\n",
            "Epoch 48/50\n",
            "42/42 [==============================] - 219s 5s/step - loss: 0.0098 - accuracy: 0.9972 - val_loss: 3.5959 - val_accuracy: 0.6224\n",
            "Epoch 49/50\n",
            "42/42 [==============================] - 220s 5s/step - loss: 0.0092 - accuracy: 0.9969 - val_loss: 3.5455 - val_accuracy: 0.6253\n",
            "Epoch 50/50\n",
            "42/42 [==============================] - 220s 5s/step - loss: 0.0095 - accuracy: 0.9970 - val_loss: 3.5956 - val_accuracy: 0.6180\n"
          ]
        }
      ]
    },
    {
      "cell_type": "code",
      "metadata": {
        "id": "sfBjIFqfeasJ"
      },
      "source": [
        "#grabar modelo con pesos entrenados\n",
        "#PESOS DE PREENTRENADO, MÁS LO QUE ESTAMOS ENTRENANDO NOSOTROS\n",
        "custom_model.save(\"model_VGG16BW.h5\")"
      ],
      "execution_count": 12,
      "outputs": []
    },
    {
      "cell_type": "code",
      "metadata": {
        "id": "p_IDtqxqegCC"
      },
      "source": [
        "def plotTraining(hist, epochs, typeData):\n",
        "    \n",
        "    if typeData==\"loss\":\n",
        "        plt.figure(1,figsize=(10,5))\n",
        "        yc=hist.history['loss']\n",
        "        xc=range(epochs)\n",
        "        plt.ylabel('Loss', fontsize=24)\n",
        "        plt.plot(xc,yc,'-r',label='Loss Training')\n",
        "    if typeData==\"accuracy\":\n",
        "        plt.figure(2,figsize=(10,5))\n",
        "        yc=hist.history['accuracy']\n",
        "        for i in range(0, len(yc)):\n",
        "            yc[i]=100*yc[i]\n",
        "        xc=range(epochs)\n",
        "        plt.ylabel('Accuracy (%)', fontsize=24)\n",
        "        plt.plot(xc,yc,'-r',label='Accuracy Training')\n",
        "    if typeData==\"val_loss\":\n",
        "        plt.figure(1,figsize=(10,5))\n",
        "        yc=hist.history['val_loss']\n",
        "        xc=range(epochs)\n",
        "        plt.ylabel('Loss', fontsize=24)\n",
        "        plt.plot(xc,yc,'--b',label='Loss Validate')\n",
        "    if typeData==\"val_accuracy\":\n",
        "        plt.figure(2,figsize=(10,5))\n",
        "        yc=hist.history['val_accuracy']\n",
        "        for i in range(0, len(yc)):\n",
        "            yc[i]=100*yc[i]\n",
        "        xc=range(epochs)\n",
        "        plt.ylabel('Accuracy (%)', fontsize=24)\n",
        "        plt.plot(xc,yc,'--b',label='Training Validate')\n",
        "        \n",
        "\n",
        "    plt.rc('xtick',labelsize=24)\n",
        "    plt.rc('ytick',labelsize=24)\n",
        "    plt.rc('legend', fontsize=18) \n",
        "    plt.legend()\n",
        "    plt.xlabel('Number of Epochs',fontsize=24)\n",
        "    plt.grid(True)"
      ],
      "execution_count": 13,
      "outputs": []
    },
    {
      "cell_type": "code",
      "metadata": {
        "colab": {
          "base_uri": "https://localhost:8080/",
          "height": 693
        },
        "id": "EtTVal-zeiMT",
        "outputId": "c5551416-7793-4b1b-f116-28731bfb1432"
      },
      "source": [
        "plotTraining(model_history,epochs,\"loss\")\n",
        "plotTraining(model_history,epochs,\"accuracy\")\n",
        "plotTraining(model_history,epochs,\"val_loss\")\n",
        "plotTraining(model_history,epochs,\"val_accuracy\")"
      ],
      "execution_count": 14,
      "outputs": [
        {
          "output_type": "display_data",
          "data": {
            "image/png": "[encoded data removed]",
            "text/plain": [
              "<Figure size 720x360 with 1 Axes>"
            ]
          },
          "metadata": {
            "needs_background": "light"
          }
        },
        {
          "output_type": "display_data",
          "data": {
            "image/png": "[encoded data removed]",
            "text/plain": [
              "<Figure size 720x360 with 1 Axes>"
            ]
          },
          "metadata": {
            "needs_background": "light"
          }
        }
      ]
    },
    {
      "cell_type": "code",
      "metadata": {
        "colab": {
          "base_uri": "https://localhost:8080/",
          "height": 266
        },
        "id": "h5-_6Zqwek5A",
        "outputId": "6ca986b1-3877-4995-cee6-3d09ca06dfa7"
      },
      "source": [
        "from keras.applications.imagenet_utils import preprocess_input, decode_predictions\n",
        "from keras.models import load_model\n",
        "\n",
        "names = ['Sujeto 1','Sujeto 2','Sujeto 3','Sujeto 4','Sujeto 5','Sujeto 6','Sujeto 7','Sujeto 8','Sujeto 9',\n",
        "        'Sujeto 10','Sujeto 11']\n",
        "#['AFRICAN FIREFINCH','ALBATROSS','ALEXANDRINE PARAKEET','AMERICAN AVOCET','AMERICAN BITTERN',\n",
        "#         'AMERICAN COOT','AMERICAN GOLDFINCH','AMERICAN KESTREL','AMERICAN PIPIT','AMERICAN REDSTART']\n",
        "\n",
        "modelt = load_model(\"/content/model_VGG16BW.h5\")\n",
        "#modelt = custom_model\n",
        "\n",
        "imaget_path = \"/content/drive/MyDrive/Hardcode/ENTRENAMIENTO_VGG/MTP/TEST/FLAVIO/frame18.jpg\"\n",
        "imaget=cv2.resize(cv2.imread(imaget_path), (width_shape, height_shape), interpolation = cv2.INTER_AREA)\n",
        "xt = np.asarray(imaget)\n",
        "xt=preprocess_input(xt)\n",
        "xt = np.expand_dims(xt,axis=0)\n",
        "preds = modelt.predict(xt)\n",
        "\n",
        "print(names[np.argmax(preds)])\n",
        "plt.imshow(cv2.cvtColor(np.asarray(imaget),cv2.COLOR_BGR2RGB))\n",
        "plt.axis('off')\n",
        "plt.show()"
      ],
      "execution_count": 15,
      "outputs": [
        {
          "output_type": "stream",
          "name": "stdout",
          "text": [
            "Sujeto 4\n"
          ]
        },
        {
          "output_type": "display_data",
          "data": {
            "image/png": "[encoded data removed]",
            "text/plain": [
              "<Figure size 432x288 with 1 Axes>"
            ]
          },
          "metadata": {
            "needs_background": "light"
          }
        }
      ]
    },
    {
      "cell_type": "code",
      "metadata": {
        "colab": {
          "base_uri": "https://localhost:8080/",
          "height": 1000
        },
        "id": "HedYMZRheoWo",
        "outputId": "e32c3853-792a-44c0-84ff-294c4d0d96c3"
      },
      "source": [
        "from sklearn.metrics import confusion_matrix, f1_score, roc_curve, precision_score, recall_score, accuracy_score, roc_auc_score\n",
        "from sklearn import metrics\n",
        "from mlxtend.plotting import plot_confusion_matrix\n",
        "from keras.models import load_model\n",
        "import numpy as np\n",
        "import matplotlib.pyplot as plt\n",
        "from sklearn.metrics import ConfusionMatrixDisplay\n",
        "%matplotlib inline\n",
        "\n",
        "\n",
        "names = ['Sujeto 1','Sujeto 2','Sujeto 3','Sujeto 4','Sujeto 5','Sujeto 6','Sujeto 7','Sujeto 8','Sujeto 9',\n",
        "        'Sujeto 10','Sujeto 11']\n",
        "\n",
        "\n",
        "test_data_dir = '/content/drive/MyDrive/Hardcode/ENTRENAMIENTO_VGG/MTP/TEST'  \n",
        "\n",
        "test_datagen = ImageDataGenerator()\n",
        "\n",
        "test_generator = test_datagen.flow_from_directory(\n",
        "    test_data_dir,\n",
        "    target_size=(width_shape, height_shape), \n",
        "    batch_size = batch_size,\n",
        "    class_mode='categorical', \n",
        "    shuffle=False)\n",
        "\n",
        "custom_Model= load_model(\"/content/model_VGG16BW.h5\")\n",
        "#modelt = custom_model\n",
        "\n",
        "predictions = custom_Model.predict_generator(generator=test_generator)\n",
        "\n",
        "y_pred = np.argmax(predictions, axis=1)\n",
        "y_real = test_generator.classes\n",
        "\n",
        "\n",
        "matc=confusion_matrix(y_real, y_pred)\n",
        "\n",
        "plot_confusion_matrix(conf_mat=matc, figsize=(15,15), show_normed=False)\n",
        "plt.tight_layout()\n",
        "\n",
        "print(metrics.classification_report(y_real,y_pred, digits = 4))"
      ],
      "execution_count": 16,
      "outputs": [
        {
          "output_type": "stream",
          "name": "stdout",
          "text": [
            "Found 1100 images belonging to 11 classes.\n"
          ]
        },
        {
          "output_type": "stream",
          "name": "stderr",
          "text": [
            "/usr/local/lib/python3.7/dist-packages/keras/engine/training.py:2035: UserWarning: `Model.predict_generator` is deprecated and will be removed in a future version. Please use `Model.predict`, which supports generators.\n",
            "  warnings.warn('`Model.predict_generator` is deprecated and '\n"
          ]
        },
        {
          "output_type": "stream",
          "name": "stdout",
          "text": [
            "              precision    recall  f1-score   support\n",
            "\n",
            "           0     1.0000    1.0000    1.0000       100\n",
            "           1     1.0000    1.0000    1.0000       100\n",
            "           2     1.0000    1.0000    1.0000       100\n",
            "           3     1.0000    1.0000    1.0000       100\n",
            "           4     0.9804    1.0000    0.9901       100\n",
            "           5     1.0000    1.0000    1.0000       100\n",
            "           6     1.0000    0.9800    0.9899       100\n",
            "           7     1.0000    1.0000    1.0000       100\n",
            "           8     1.0000    1.0000    1.0000       100\n",
            "           9     0.0000    0.0000    0.0000       100\n",
            "          10     0.0000    0.0000    0.0000       100\n",
            "\n",
            "    accuracy                         0.8164      1100\n",
            "   macro avg     0.8164    0.8164    0.8164      1100\n",
            "weighted avg     0.8164    0.8164    0.8164      1100\n",
            "\n"
          ]
        },
        {
          "output_type": "display_data",
          "data": {
            "image/png": "[encoded data removed]",
            "text/plain": [
              "<Figure size 1080x1080 with 1 Axes>"
            ]
          },
          "metadata": {
            "needs_background": "light"
          }
        }
      ]
    }
  ]
}